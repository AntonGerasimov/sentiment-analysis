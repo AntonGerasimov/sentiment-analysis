{
 "cells": [
  {
   "cell_type": "markdown",
   "metadata": {
    "id": "4zLpWyORX2Os"
   },
   "source": [
    "# Import and Read data"
   ]
  },
  {
   "cell_type": "code",
   "execution_count": 7,
   "metadata": {
    "executionInfo": {
     "elapsed": 3,
     "status": "ok",
     "timestamp": 1707126578125,
     "user": {
      "displayName": "Antony Gerasimov",
      "userId": "02899291570275696238"
     },
     "user_tz": -240
    },
    "id": "M-kHaQQVXxDR"
   },
   "outputs": [],
   "source": [
    "import numpy as np\n",
    "import pandas as pd\n",
    "\n",
    "import matplotlib.pyplot as plt\n",
    "import seaborn as sns\n",
    "\n",
    "import os\n",
    "\n",
    "import re\n",
    "\n",
    "from pathlib import Path"
   ]
  },
  {
   "cell_type": "code",
   "execution_count": 2,
   "metadata": {
    "colab": {
     "base_uri": "https://localhost:8080/"
    },
    "executionInfo": {
     "elapsed": 2219,
     "status": "ok",
     "timestamp": 1707126580729,
     "user": {
      "displayName": "Antony Gerasimov",
      "userId": "02899291570275696238"
     },
     "user_tz": -240
    },
    "id": "D5SkZ6pSZAQA",
    "outputId": "5dbce125-866e-4daf-bb7a-eee671c2ccf0"
   },
   "outputs": [
    {
     "ename": "ModuleNotFoundError",
     "evalue": "No module named 'google.colab'",
     "output_type": "error",
     "traceback": [
      "\u001b[0;31m---------------------------------------------------------------------------\u001b[0m",
      "\u001b[0;31mModuleNotFoundError\u001b[0m                       Traceback (most recent call last)",
      "Cell \u001b[0;32mIn[2], line 1\u001b[0m\n\u001b[0;32m----> 1\u001b[0m \u001b[38;5;28;01mfrom\u001b[39;00m \u001b[38;5;21;01mgoogle\u001b[39;00m\u001b[38;5;21;01m.\u001b[39;00m\u001b[38;5;21;01mcolab\u001b[39;00m \u001b[38;5;28;01mimport\u001b[39;00m drive\n\u001b[1;32m      2\u001b[0m drive\u001b[38;5;241m.\u001b[39mmount(\u001b[38;5;124m\"\u001b[39m\u001b[38;5;124m/content/gdrive\u001b[39m\u001b[38;5;124m\"\u001b[39m)\n",
      "\u001b[0;31mModuleNotFoundError\u001b[0m: No module named 'google.colab'"
     ]
    }
   ],
   "source": [
    "from google.colab import drive\n",
    "drive.mount(\"/content/gdrive\")"
   ]
  },
  {
   "cell_type": "markdown",
   "metadata": {
    "id": "L0NB5J1yZDX6"
   },
   "source": [
    "Read data"
   ]
  },
  {
   "cell_type": "code",
   "execution_count": 9,
   "metadata": {},
   "outputs": [
    {
     "name": "stdout",
     "output_type": "stream",
     "text": [
      "/Users/antongerasimov/Documents/EPAM/ds/project/final_project_epam_ds\n"
     ]
    }
   ],
   "source": [
    "main_dir = Path(os.path.abspath('')).parent\n",
    "print(main_dir)"
   ]
  },
  {
   "cell_type": "code",
   "execution_count": 11,
   "metadata": {
    "executionInfo": {
     "elapsed": 317,
     "status": "ok",
     "timestamp": 1707126582652,
     "user": {
      "displayName": "Antony Gerasimov",
      "userId": "02899291570275696238"
     },
     "user_tz": -240
    },
    "id": "IM48F9MSZHf_"
   },
   "outputs": [],
   "source": [
    "main_dir = Path(os.path.abspath('')).parent\n",
    "data_path = main_dir / 'data' / 'raw'\n",
    "train_file_name = \"train.csv\"\n",
    "test_file_name = \"test.csv\""
   ]
  },
  {
   "cell_type": "code",
   "execution_count": 12,
   "metadata": {
    "executionInfo": {
     "elapsed": 2946,
     "status": "ok",
     "timestamp": 1707126585892,
     "user": {
      "displayName": "Antony Gerasimov",
      "userId": "02899291570275696238"
     },
     "user_tz": -240
    },
    "id": "dUjWayGzaCtT"
   },
   "outputs": [],
   "source": [
    "train_data = pd.read_csv(os.path.join(data_path, train_file_name))"
   ]
  },
  {
   "cell_type": "code",
   "execution_count": 13,
   "metadata": {
    "executionInfo": {
     "elapsed": 462,
     "status": "ok",
     "timestamp": 1707126586352,
     "user": {
      "displayName": "Antony Gerasimov",
      "userId": "02899291570275696238"
     },
     "user_tz": -240
    },
    "id": "NTCVQ_o-QUhU"
   },
   "outputs": [],
   "source": [
    "test_data = pd.read_csv(os.path.join(data_path, test_file_name))"
   ]
  },
  {
   "cell_type": "markdown",
   "metadata": {
    "id": "zYcqTrvFcOR8"
   },
   "source": [
    "# Data preprocessing"
   ]
  },
  {
   "cell_type": "markdown",
   "metadata": {
    "id": "ui1m08JuStSz"
   },
   "source": [
    "## Theory methods\n",
    "\n",
    "\n",
    "\n",
    "*   Removing URL\n",
    "*   Removing all irrelevant characters (Numbers and Punctuation)\n",
    "*   Convert all characters into lowercase\n",
    "*   Removing Stopwords\n",
    "*   Stemming and Lemmatization !!!\n",
    "*   Remove the words having length <= 2 !!!\n",
    "*   Remove most frequently used words in both positive and negative reviews\n",
    "*   Remove whitespaces\n",
    "*   Removal of Rare words\n",
    "*   Conversion of Emoji to Words ???\n",
    "*   Conversion of Emoticon to Words ???\n",
    "*   Removal of HTML Tags\n",
    "*   Chat Words Conversion ???\n",
    "*   Spelling Correction ??? 10 rows evaluates for 1.2 minutes\n",
    "\n",
    "\n",
    "\n",
    "\n",
    "\n",
    "\n",
    "\n",
    "\n",
    "Мб сначала токенизировать, а потом уже работать с текстом\n",
    "\n",
    "\n",
    "\n",
    "\n",
    "\n"
   ]
  },
  {
   "cell_type": "markdown",
   "metadata": {
    "id": "2oYMxNIGcQYF"
   },
   "source": [
    "## Methods"
   ]
  },
  {
   "cell_type": "code",
   "execution_count": 18,
   "metadata": {
    "colab": {
     "base_uri": "https://localhost:8080/"
    },
    "executionInfo": {
     "elapsed": 7,
     "status": "ok",
     "timestamp": 1707126586352,
     "user": {
      "displayName": "Antony Gerasimov",
      "userId": "02899291570275696238"
     },
     "user_tz": -240
    },
    "id": "fSuyd1T-VW32",
    "outputId": "1174aa38-835b-4ef9-cf92-38578159ffc0"
   },
   "outputs": [
    {
     "name": "stderr",
     "output_type": "stream",
     "text": [
      "[nltk_data] Downloading package stopwords to\n",
      "[nltk_data]     /Users/antongerasimov/nltk_data...\n",
      "[nltk_data]   Package stopwords is already up-to-date!\n"
     ]
    },
    {
     "data": {
      "text/plain": [
       "True"
      ]
     },
     "execution_count": 18,
     "metadata": {},
     "output_type": "execute_result"
    }
   ],
   "source": [
    "import nltk\n",
    "nltk.download('stopwords')"
   ]
  },
  {
   "cell_type": "code",
   "execution_count": 19,
   "metadata": {
    "executionInfo": {
     "elapsed": 5,
     "status": "ok",
     "timestamp": 1707126586352,
     "user": {
      "displayName": "Antony Gerasimov",
      "userId": "02899291570275696238"
     },
     "user_tz": -240
    },
    "id": "wk8TKSNQV9Vc"
   },
   "outputs": [],
   "source": [
    "from nltk.corpus import stopwords"
   ]
  },
  {
   "cell_type": "code",
   "execution_count": 20,
   "metadata": {
    "colab": {
     "base_uri": "https://localhost:8080/",
     "height": 0
    },
    "executionInfo": {
     "elapsed": 6,
     "status": "ok",
     "timestamp": 1707126586353,
     "user": {
      "displayName": "Antony Gerasimov",
      "userId": "02899291570275696238"
     },
     "user_tz": -240
    },
    "id": "9IWa9qLfVd6v",
    "outputId": "bb2d9106-7ba5-47c2-aa4a-38e6170d7b9f"
   },
   "outputs": [
    {
     "data": {
      "text/plain": [
       "\"i, me, my, myself, we, our, ours, ourselves, you, you're, you've, you'll, you'd, your, yours, yourself, yourselves, he, him, his, himself, she, she's, her, hers, herself, it, it's, its, itself, they, them, their, theirs, themselves, what, which, who, whom, this, that, that'll, these, those, am, is, are, was, were, be, been, being, have, has, had, having, do, does, did, doing, a, an, the, and, but, if, or, because, as, until, while, of, at, by, for, with, about, against, between, into, through, during, before, after, above, below, to, from, up, down, in, out, on, off, over, under, again, further, then, once, here, there, when, where, why, how, all, any, both, each, few, more, most, other, some, such, no, nor, not, only, own, same, so, than, too, very, s, t, can, will, just, don, don't, should, should've, now, d, ll, m, o, re, ve, y, ain, aren, aren't, couldn, couldn't, didn, didn't, doesn, doesn't, hadn, hadn't, hasn, hasn't, haven, haven't, isn, isn't, ma, mightn, mightn't, mustn, mustn't, needn, needn't, shan, shan't, shouldn, shouldn't, wasn, wasn't, weren, weren't, won, won't, wouldn, wouldn't\""
      ]
     },
     "execution_count": 20,
     "metadata": {},
     "output_type": "execute_result"
    }
   ],
   "source": [
    "\", \".join(stopwords.words('english'))"
   ]
  },
  {
   "cell_type": "code",
   "execution_count": 21,
   "metadata": {
    "colab": {
     "base_uri": "https://localhost:8080/"
    },
    "executionInfo": {
     "elapsed": 309,
     "status": "ok",
     "timestamp": 1707126586657,
     "user": {
      "displayName": "Antony Gerasimov",
      "userId": "02899291570275696238"
     },
     "user_tz": -240
    },
    "id": "re-lSk9XMhR3",
    "outputId": "7b9b0748-49bf-4bb8-b50e-5e1ea6980da5"
   },
   "outputs": [
    {
     "name": "stderr",
     "output_type": "stream",
     "text": [
      "[nltk_data] Downloading package wordnet to\n",
      "[nltk_data]     /Users/antongerasimov/nltk_data...\n",
      "[nltk_data]   Package wordnet is already up-to-date!\n"
     ]
    },
    {
     "data": {
      "text/plain": [
       "True"
      ]
     },
     "execution_count": 21,
     "metadata": {},
     "output_type": "execute_result"
    }
   ],
   "source": [
    "from nltk.stem import WordNetLemmatizer\n",
    "nltk.download('wordnet')"
   ]
  },
  {
   "cell_type": "code",
   "execution_count": 22,
   "metadata": {
    "executionInfo": {
     "elapsed": 7,
     "status": "ok",
     "timestamp": 1707126586657,
     "user": {
      "displayName": "Antony Gerasimov",
      "userId": "02899291570275696238"
     },
     "user_tz": -240
    },
    "id": "3YWmq6MJcSZc"
   },
   "outputs": [],
   "source": [
    "def preprocess_data(column):\n",
    "    column = remove_url(column)\n",
    "    column = remove_html_tags(column)\n",
    "    column = remove_non_alphanumeric(column)\n",
    "    column = convert_to_lowercase(column)\n",
    "    column = remove_short_words(column)\n",
    "    column = remove_stopwords(column)\n",
    "    return column"
   ]
  },
  {
   "cell_type": "code",
   "execution_count": 23,
   "metadata": {
    "executionInfo": {
     "elapsed": 7,
     "status": "ok",
     "timestamp": 1707126586657,
     "user": {
      "displayName": "Antony Gerasimov",
      "userId": "02899291570275696238"
     },
     "user_tz": -240
    },
    "id": "jVJ1oJNEsxao"
   },
   "outputs": [],
   "source": [
    "def remove_url(review_text):\n",
    "    url_pattern = re.compile(r'https?://\\S+|www\\.\\S+')\n",
    "    return re.sub(url_pattern, '', review_text)"
   ]
  },
  {
   "cell_type": "code",
   "execution_count": 24,
   "metadata": {
    "executionInfo": {
     "elapsed": 6,
     "status": "ok",
     "timestamp": 1707126586657,
     "user": {
      "displayName": "Antony Gerasimov",
      "userId": "02899291570275696238"
     },
     "user_tz": -240
    },
    "id": "vULxSZmrTm3s"
   },
   "outputs": [],
   "source": [
    "def remove_html_tags(review_text):\n",
    "    html_pattern = re.compile('<.*?>')\n",
    "    return html_pattern.sub(r'', review_text)"
   ]
  },
  {
   "cell_type": "code",
   "execution_count": 25,
   "metadata": {
    "executionInfo": {
     "elapsed": 6,
     "status": "ok",
     "timestamp": 1707126586657,
     "user": {
      "displayName": "Antony Gerasimov",
      "userId": "02899291570275696238"
     },
     "user_tz": -240
    },
    "id": "6K0iTvR3CUd4"
   },
   "outputs": [],
   "source": [
    "def remove_non_alphanumeric(review_text):\n",
    "    return re.sub(r'[^a-zA-Z]', ' ', review_text)"
   ]
  },
  {
   "cell_type": "code",
   "execution_count": 26,
   "metadata": {
    "executionInfo": {
     "elapsed": 6,
     "status": "ok",
     "timestamp": 1707126586657,
     "user": {
      "displayName": "Antony Gerasimov",
      "userId": "02899291570275696238"
     },
     "user_tz": -240
    },
    "id": "VtOuvmtr9GFt"
   },
   "outputs": [],
   "source": [
    "def convert_to_lowercase(review_text):\n",
    "    review_text = review_text.lower()\n",
    "    return review_text"
   ]
  },
  {
   "cell_type": "code",
   "execution_count": 27,
   "metadata": {
    "executionInfo": {
     "elapsed": 6,
     "status": "ok",
     "timestamp": 1707126586657,
     "user": {
      "displayName": "Antony Gerasimov",
      "userId": "02899291570275696238"
     },
     "user_tz": -240
    },
    "id": "jRMl0EjVyAYK"
   },
   "outputs": [],
   "source": [
    "def remove_short_words(review_text, min_length=3):\n",
    "    return ' '.join(word for word in review_text.split() if len(word) > min_length)"
   ]
  },
  {
   "cell_type": "code",
   "execution_count": 28,
   "metadata": {
    "executionInfo": {
     "elapsed": 5,
     "status": "ok",
     "timestamp": 1707126586657,
     "user": {
      "displayName": "Antony Gerasimov",
      "userId": "02899291570275696238"
     },
     "user_tz": -240
    },
    "id": "oEMQNhWSWMDl"
   },
   "outputs": [],
   "source": [
    "def remove_stopwords(review_text):\n",
    "    STOPWORDS = set(stopwords.words('english'))\n",
    "    words = review_text.split()\n",
    "    filtered_words = [word for word in words if word.lower() not in STOPWORDS]\n",
    "    return ' '.join(filtered_words)"
   ]
  },
  {
   "cell_type": "code",
   "execution_count": 29,
   "metadata": {
    "executionInfo": {
     "elapsed": 5,
     "status": "ok",
     "timestamp": 1707126586657,
     "user": {
      "displayName": "Antony Gerasimov",
      "userId": "02899291570275696238"
     },
     "user_tz": -240
    },
    "id": "_JXQx_gQu3zi"
   },
   "outputs": [],
   "source": [
    "def correct_spellings(text):\n",
    "    spell = SpellChecker()\n",
    "    corrected_text = []\n",
    "    for word in text.split():\n",
    "        corrected_word = spell.correction(word)\n",
    "        if corrected_word:\n",
    "            corrected_text.append(corrected_word)\n",
    "        else:\n",
    "            corrected_text.append(word)\n",
    "    return \" \".join(corrected_text)"
   ]
  },
  {
   "cell_type": "code",
   "execution_count": 30,
   "metadata": {
    "executionInfo": {
     "elapsed": 6,
     "status": "ok",
     "timestamp": 1707126586658,
     "user": {
      "displayName": "Antony Gerasimov",
      "userId": "02899291570275696238"
     },
     "user_tz": -240
    },
    "id": "lnRk2ZKXdMS0"
   },
   "outputs": [],
   "source": [
    "def find_common_words(data):\n",
    "    positive_review = data[data.sentiment == 'positive']['review']\n",
    "    negative_review = data[data.sentiment == 'negative']['review']\n",
    "    splited_review = [positive_review, negative_review]\n",
    "    all_text_sets = [' '.join(examples) for examples in splited_review]\n",
    "\n",
    "    top_words_sets = []\n",
    "  \n",
    "    for item, text_set in enumerate(all_text_sets):\n",
    "        top_words_series = pd.Series(text_set.split()).value_counts().head(13)\n",
    "        top_words = top_words_series.index.tolist()\n",
    "        top_word_counts = top_words_series.values.tolist()\n",
    "        top_words_sets.append(set(top_words))\n",
    "\n",
    "    return set.intersection(*top_words_sets)"
   ]
  },
  {
   "cell_type": "code",
   "execution_count": 31,
   "metadata": {
    "executionInfo": {
     "elapsed": 6,
     "status": "ok",
     "timestamp": 1707126586658,
     "user": {
      "displayName": "Antony Gerasimov",
      "userId": "02899291570275696238"
     },
     "user_tz": -240
    },
    "id": "PCBo7bzLm2UT"
   },
   "outputs": [],
   "source": [
    "def remove_common_words_from_review(review_text, common_words):\n",
    "    words = review_text.split()\n",
    "    filtered_words = [word for word in words if word.lower() not in common_words]  # Consider case-insensitive matching\n",
    "    return ' '.join(filtered_words)"
   ]
  },
  {
   "cell_type": "markdown",
   "metadata": {
    "id": "yeR0xoVsLRU2"
   },
   "source": [
    "Скорее всего нужно удалять одни и те же слова, и брать их из трейн даты"
   ]
  },
  {
   "cell_type": "code",
   "execution_count": 84,
   "metadata": {
    "executionInfo": {
     "elapsed": 6,
     "status": "ok",
     "timestamp": 1707126586658,
     "user": {
      "displayName": "Antony Gerasimov",
      "userId": "02899291570275696238"
     },
     "user_tz": -240
    },
    "id": "equMs8j-qCvr"
   },
   "outputs": [],
   "source": [
    "def remove_common_words(current_data, common_words):\n",
    "    current_data['review'] = current_data['review'].apply(lambda text: remove_common_words_from_review(text, common_words))\n",
    "    return current_data"
   ]
  },
  {
   "cell_type": "markdown",
   "metadata": {
    "id": "9mEFqwRs8ED-"
   },
   "source": [
    "# Lematization vs Stematization"
   ]
  },
  {
   "cell_type": "code",
   "execution_count": null,
   "metadata": {
    "colab": {
     "base_uri": "https://localhost:8080/"
    },
    "executionInfo": {
     "elapsed": 509,
     "status": "ok",
     "timestamp": 1706778183909,
     "user": {
      "displayName": "Antony Gerasimov",
      "userId": "02899291570275696238"
     },
     "user_tz": -240
    },
    "id": "BlL57hu__dYR",
    "outputId": "28c969ca-eb6d-4c04-dce7-1a72abc5e43e"
   },
   "outputs": [
    {
     "name": "stderr",
     "output_type": "stream",
     "text": [
      "[nltk_data] Downloading package wordnet to /root/nltk_data...\n",
      "[nltk_data]   Package wordnet is already up-to-date!\n"
     ]
    },
    {
     "data": {
      "text/plain": [
       "True"
      ]
     },
     "execution_count": 27,
     "metadata": {},
     "output_type": "execute_result"
    }
   ],
   "source": [
    "from nltk.stem.porter import PorterStemmer\n",
    "from nltk.stem import WordNetLemmatizer\n",
    "nltk.download('wordnet')"
   ]
  },
  {
   "cell_type": "markdown",
   "metadata": {
    "id": "sstqRg1M6IqL"
   },
   "source": [
    "Data preparation"
   ]
  },
  {
   "cell_type": "code",
   "execution_count": null,
   "metadata": {
    "id": "wYJQA4HD5pz9"
   },
   "outputs": [],
   "source": [
    "data_for_test = train_data.copy()\n",
    "data_for_test['review'] = data_for_test['review'].apply(preprocess_data)"
   ]
  },
  {
   "cell_type": "markdown",
   "metadata": {
    "id": "oG6z3kZR9uru"
   },
   "source": [
    "stemmer"
   ]
  },
  {
   "cell_type": "code",
   "execution_count": null,
   "metadata": {
    "colab": {
     "base_uri": "https://localhost:8080/",
     "height": 204
    },
    "executionInfo": {
     "elapsed": 118997,
     "status": "ok",
     "timestamp": 1706778304771,
     "user": {
      "displayName": "Antony Gerasimov",
      "userId": "02899291570275696238"
     },
     "user_tz": -240
    },
    "id": "KHFrFbNX8IDN",
    "outputId": "09f88d17-e0df-4ff4-8c1e-73fc938f85ba"
   },
   "outputs": [
    {
     "data": {
      "text/html": [
       "\n",
       "  <div id=\"df-47913785-aae0-4eef-875b-1b4261c1ea3d\" class=\"colab-df-container\">\n",
       "    <div>\n",
       "<style scoped>\n",
       "    .dataframe tbody tr th:only-of-type {\n",
       "        vertical-align: middle;\n",
       "    }\n",
       "\n",
       "    .dataframe tbody tr th {\n",
       "        vertical-align: top;\n",
       "    }\n",
       "\n",
       "    .dataframe thead th {\n",
       "        text-align: right;\n",
       "    }\n",
       "</style>\n",
       "<table border=\"1\" class=\"dataframe\">\n",
       "  <thead>\n",
       "    <tr style=\"text-align: right;\">\n",
       "      <th></th>\n",
       "      <th>review</th>\n",
       "      <th>sentiment</th>\n",
       "      <th>stemmed_review</th>\n",
       "    </tr>\n",
       "  </thead>\n",
       "  <tbody>\n",
       "    <tr>\n",
       "      <th>0</th>\n",
       "      <td>caught little totally accident back revival th...</td>\n",
       "      <td>positive</td>\n",
       "      <td>caught littl total accid back reviv theatr sil...</td>\n",
       "    </tr>\n",
       "    <tr>\n",
       "      <th>1</th>\n",
       "      <td>believe movie accomplish favor friends early a...</td>\n",
       "      <td>negative</td>\n",
       "      <td>believ movi accomplish favor friend earli apri...</td>\n",
       "    </tr>\n",
       "    <tr>\n",
       "      <th>2</th>\n",
       "      <td>spoiler alert gets nerve people remake term lo...</td>\n",
       "      <td>negative</td>\n",
       "      <td>spoiler alert get nerv peopl remak term loos g...</td>\n",
       "    </tr>\n",
       "    <tr>\n",
       "      <th>3</th>\n",
       "      <td>thing learnt watching george romero creepshow ...</td>\n",
       "      <td>negative</td>\n",
       "      <td>thing learnt watch georg romero creepshow stum...</td>\n",
       "    </tr>\n",
       "    <tr>\n",
       "      <th>4</th>\n",
       "      <td>remember theaters reviews said horrible well t...</td>\n",
       "      <td>negative</td>\n",
       "      <td>rememb theater review said horribl well think ...</td>\n",
       "    </tr>\n",
       "  </tbody>\n",
       "</table>\n",
       "</div>\n",
       "    <div class=\"colab-df-buttons\">\n",
       "\n",
       "  <div class=\"colab-df-container\">\n",
       "    <button class=\"colab-df-convert\" onclick=\"convertToInteractive('df-47913785-aae0-4eef-875b-1b4261c1ea3d')\"\n",
       "            title=\"Convert this dataframe to an interactive table.\"\n",
       "            style=\"display:none;\">\n",
       "\n",
       "  <svg xmlns=\"http://www.w3.org/2000/svg\" height=\"24px\" viewBox=\"0 -960 960 960\">\n",
       "    <path d=\"M120-120v-720h720v720H120Zm60-500h600v-160H180v160Zm220 220h160v-160H400v160Zm0 220h160v-160H400v160ZM180-400h160v-160H180v160Zm440 0h160v-160H620v160ZM180-180h160v-160H180v160Zm440 0h160v-160H620v160Z\"/>\n",
       "  </svg>\n",
       "    </button>\n",
       "\n",
       "  <style>\n",
       "    .colab-df-container {\n",
       "      display:flex;\n",
       "      gap: 12px;\n",
       "    }\n",
       "\n",
       "    .colab-df-convert {\n",
       "      background-color: #E8F0FE;\n",
       "      border: none;\n",
       "      border-radius: 50%;\n",
       "      cursor: pointer;\n",
       "      display: none;\n",
       "      fill: #1967D2;\n",
       "      height: 32px;\n",
       "      padding: 0 0 0 0;\n",
       "      width: 32px;\n",
       "    }\n",
       "\n",
       "    .colab-df-convert:hover {\n",
       "      background-color: #E2EBFA;\n",
       "      box-shadow: 0px 1px 2px rgba(60, 64, 67, 0.3), 0px 1px 3px 1px rgba(60, 64, 67, 0.15);\n",
       "      fill: #174EA6;\n",
       "    }\n",
       "\n",
       "    .colab-df-buttons div {\n",
       "      margin-bottom: 4px;\n",
       "    }\n",
       "\n",
       "    [theme=dark] .colab-df-convert {\n",
       "      background-color: #3B4455;\n",
       "      fill: #D2E3FC;\n",
       "    }\n",
       "\n",
       "    [theme=dark] .colab-df-convert:hover {\n",
       "      background-color: #434B5C;\n",
       "      box-shadow: 0px 1px 3px 1px rgba(0, 0, 0, 0.15);\n",
       "      filter: drop-shadow(0px 1px 2px rgba(0, 0, 0, 0.3));\n",
       "      fill: #FFFFFF;\n",
       "    }\n",
       "  </style>\n",
       "\n",
       "    <script>\n",
       "      const buttonEl =\n",
       "        document.querySelector('#df-47913785-aae0-4eef-875b-1b4261c1ea3d button.colab-df-convert');\n",
       "      buttonEl.style.display =\n",
       "        google.colab.kernel.accessAllowed ? 'block' : 'none';\n",
       "\n",
       "      async function convertToInteractive(key) {\n",
       "        const element = document.querySelector('#df-47913785-aae0-4eef-875b-1b4261c1ea3d');\n",
       "        const dataTable =\n",
       "          await google.colab.kernel.invokeFunction('convertToInteractive',\n",
       "                                                    [key], {});\n",
       "        if (!dataTable) return;\n",
       "\n",
       "        const docLinkHtml = 'Like what you see? Visit the ' +\n",
       "          '<a target=\"_blank\" href=https://colab.research.google.com/notebooks/data_table.ipynb>data table notebook</a>'\n",
       "          + ' to learn more about interactive tables.';\n",
       "        element.innerHTML = '';\n",
       "        dataTable['output_type'] = 'display_data';\n",
       "        await google.colab.output.renderOutput(dataTable, element);\n",
       "        const docLink = document.createElement('div');\n",
       "        docLink.innerHTML = docLinkHtml;\n",
       "        element.appendChild(docLink);\n",
       "      }\n",
       "    </script>\n",
       "  </div>\n",
       "\n",
       "\n",
       "<div id=\"df-e119cfe8-5aaf-4cc9-8593-42e8e1057fc3\">\n",
       "  <button class=\"colab-df-quickchart\" onclick=\"quickchart('df-e119cfe8-5aaf-4cc9-8593-42e8e1057fc3')\"\n",
       "            title=\"Suggest charts\"\n",
       "            style=\"display:none;\">\n",
       "\n",
       "<svg xmlns=\"http://www.w3.org/2000/svg\" height=\"24px\"viewBox=\"0 0 24 24\"\n",
       "     width=\"24px\">\n",
       "    <g>\n",
       "        <path d=\"M19 3H5c-1.1 0-2 .9-2 2v14c0 1.1.9 2 2 2h14c1.1 0 2-.9 2-2V5c0-1.1-.9-2-2-2zM9 17H7v-7h2v7zm4 0h-2V7h2v10zm4 0h-2v-4h2v4z\"/>\n",
       "    </g>\n",
       "</svg>\n",
       "  </button>\n",
       "\n",
       "<style>\n",
       "  .colab-df-quickchart {\n",
       "      --bg-color: #E8F0FE;\n",
       "      --fill-color: #1967D2;\n",
       "      --hover-bg-color: #E2EBFA;\n",
       "      --hover-fill-color: #174EA6;\n",
       "      --disabled-fill-color: #AAA;\n",
       "      --disabled-bg-color: #DDD;\n",
       "  }\n",
       "\n",
       "  [theme=dark] .colab-df-quickchart {\n",
       "      --bg-color: #3B4455;\n",
       "      --fill-color: #D2E3FC;\n",
       "      --hover-bg-color: #434B5C;\n",
       "      --hover-fill-color: #FFFFFF;\n",
       "      --disabled-bg-color: #3B4455;\n",
       "      --disabled-fill-color: #666;\n",
       "  }\n",
       "\n",
       "  .colab-df-quickchart {\n",
       "    background-color: var(--bg-color);\n",
       "    border: none;\n",
       "    border-radius: 50%;\n",
       "    cursor: pointer;\n",
       "    display: none;\n",
       "    fill: var(--fill-color);\n",
       "    height: 32px;\n",
       "    padding: 0;\n",
       "    width: 32px;\n",
       "  }\n",
       "\n",
       "  .colab-df-quickchart:hover {\n",
       "    background-color: var(--hover-bg-color);\n",
       "    box-shadow: 0 1px 2px rgba(60, 64, 67, 0.3), 0 1px 3px 1px rgba(60, 64, 67, 0.15);\n",
       "    fill: var(--button-hover-fill-color);\n",
       "  }\n",
       "\n",
       "  .colab-df-quickchart-complete:disabled,\n",
       "  .colab-df-quickchart-complete:disabled:hover {\n",
       "    background-color: var(--disabled-bg-color);\n",
       "    fill: var(--disabled-fill-color);\n",
       "    box-shadow: none;\n",
       "  }\n",
       "\n",
       "  .colab-df-spinner {\n",
       "    border: 2px solid var(--fill-color);\n",
       "    border-color: transparent;\n",
       "    border-bottom-color: var(--fill-color);\n",
       "    animation:\n",
       "      spin 1s steps(1) infinite;\n",
       "  }\n",
       "\n",
       "  @keyframes spin {\n",
       "    0% {\n",
       "      border-color: transparent;\n",
       "      border-bottom-color: var(--fill-color);\n",
       "      border-left-color: var(--fill-color);\n",
       "    }\n",
       "    20% {\n",
       "      border-color: transparent;\n",
       "      border-left-color: var(--fill-color);\n",
       "      border-top-color: var(--fill-color);\n",
       "    }\n",
       "    30% {\n",
       "      border-color: transparent;\n",
       "      border-left-color: var(--fill-color);\n",
       "      border-top-color: var(--fill-color);\n",
       "      border-right-color: var(--fill-color);\n",
       "    }\n",
       "    40% {\n",
       "      border-color: transparent;\n",
       "      border-right-color: var(--fill-color);\n",
       "      border-top-color: var(--fill-color);\n",
       "    }\n",
       "    60% {\n",
       "      border-color: transparent;\n",
       "      border-right-color: var(--fill-color);\n",
       "    }\n",
       "    80% {\n",
       "      border-color: transparent;\n",
       "      border-right-color: var(--fill-color);\n",
       "      border-bottom-color: var(--fill-color);\n",
       "    }\n",
       "    90% {\n",
       "      border-color: transparent;\n",
       "      border-bottom-color: var(--fill-color);\n",
       "    }\n",
       "  }\n",
       "</style>\n",
       "\n",
       "  <script>\n",
       "    async function quickchart(key) {\n",
       "      const quickchartButtonEl =\n",
       "        document.querySelector('#' + key + ' button');\n",
       "      quickchartButtonEl.disabled = true;  // To prevent multiple clicks.\n",
       "      quickchartButtonEl.classList.add('colab-df-spinner');\n",
       "      try {\n",
       "        const charts = await google.colab.kernel.invokeFunction(\n",
       "            'suggestCharts', [key], {});\n",
       "      } catch (error) {\n",
       "        console.error('Error during call to suggestCharts:', error);\n",
       "      }\n",
       "      quickchartButtonEl.classList.remove('colab-df-spinner');\n",
       "      quickchartButtonEl.classList.add('colab-df-quickchart-complete');\n",
       "    }\n",
       "    (() => {\n",
       "      let quickchartButtonEl =\n",
       "        document.querySelector('#df-e119cfe8-5aaf-4cc9-8593-42e8e1057fc3 button');\n",
       "      quickchartButtonEl.style.display =\n",
       "        google.colab.kernel.accessAllowed ? 'block' : 'none';\n",
       "    })();\n",
       "  </script>\n",
       "</div>\n",
       "\n",
       "    </div>\n",
       "  </div>\n"
      ],
      "text/plain": [
       "                                              review sentiment  \\\n",
       "0  caught little totally accident back revival th...  positive   \n",
       "1  believe movie accomplish favor friends early a...  negative   \n",
       "2  spoiler alert gets nerve people remake term lo...  negative   \n",
       "3  thing learnt watching george romero creepshow ...  negative   \n",
       "4  remember theaters reviews said horrible well t...  negative   \n",
       "\n",
       "                                      stemmed_review  \n",
       "0  caught littl total accid back reviv theatr sil...  \n",
       "1  believ movi accomplish favor friend earli apri...  \n",
       "2  spoiler alert get nerv peopl remak term loos g...  \n",
       "3  thing learnt watch georg romero creepshow stum...  \n",
       "4  rememb theater review said horribl well think ...  "
      ]
     },
     "execution_count": 28,
     "metadata": {},
     "output_type": "execute_result"
    }
   ],
   "source": [
    "stemmer = PorterStemmer()\n",
    "def stem_words(text):\n",
    "    return \" \".join([stemmer.stem(word) for word in text.split()])\n",
    "\n",
    "data_for_test['stemmed_review'] = data_for_test['review'].apply(lambda text: stem_words(text))"
   ]
  },
  {
   "cell_type": "code",
   "execution_count": null,
   "metadata": {
    "colab": {
     "base_uri": "https://localhost:8080/"
    },
    "executionInfo": {
     "elapsed": 355,
     "status": "ok",
     "timestamp": 1706778499284,
     "user": {
      "displayName": "Antony Gerasimov",
      "userId": "02899291570275696238"
     },
     "user_tz": -240
    },
    "id": "FZOXg5f-7Qz5",
    "outputId": "0a7c01e6-649c-42ce-c2d7-84fb1d290007"
   },
   "outputs": [
    {
     "data": {
      "text/plain": [
       "0    caught littl total accid back reviv theatr sil...\n",
       "1    believ movi accomplish favor friend earli apri...\n",
       "2    spoiler alert get nerv peopl remak term loos g...\n",
       "3    thing learnt watch georg romero creepshow stum...\n",
       "4    rememb theater review said horribl well think ...\n",
       "Name: stemmed_review, dtype: object"
      ]
     },
     "execution_count": 32,
     "metadata": {},
     "output_type": "execute_result"
    }
   ],
   "source": [
    "data_for_test['stemmed_review'].head()"
   ]
  },
  {
   "cell_type": "markdown",
   "metadata": {
    "id": "3jC6P_uL9t8V"
   },
   "source": [
    "lemmatization"
   ]
  },
  {
   "cell_type": "code",
   "execution_count": null,
   "metadata": {
    "id": "e7lSm0zwJ7Fo"
   },
   "outputs": [],
   "source": [
    "lemmatizer = WordNetLemmatizer()\n",
    "def lemmatize_words(text):\n",
    "    return \" \".join([lemmatizer.lemmatize(word) for word in text.split()])"
   ]
  },
  {
   "cell_type": "code",
   "execution_count": null,
   "metadata": {
    "colab": {
     "base_uri": "https://localhost:8080/"
    },
    "executionInfo": {
     "elapsed": 30217,
     "status": "ok",
     "timestamp": 1706778486424,
     "user": {
      "displayName": "Antony Gerasimov",
      "userId": "02899291570275696238"
     },
     "user_tz": -240
    },
    "id": "a_e55xsqJuf9",
    "outputId": "344f7f77-c4e4-4618-94d0-002733a47150"
   },
   "outputs": [
    {
     "data": {
      "text/plain": [
       "0    caught little totally accident back revival th...\n",
       "1    believe movie accomplish favor friend early ap...\n",
       "2    spoiler alert get nerve people remake term loo...\n",
       "3    thing learnt watching george romero creepshow ...\n",
       "4    remember theater review said horrible well thi...\n",
       "Name: lemmed_review, dtype: object"
      ]
     },
     "execution_count": 31,
     "metadata": {},
     "output_type": "execute_result"
    }
   ],
   "source": [
    "data_for_test['lemmed_review'] = data_for_test['review'].apply(lambda text: lemmatize_words(text))\n",
    "data_for_test['lemmed_review'].head()"
   ]
  }
 ],
 "metadata": {
  "colab": {
   "authorship_tag": "ABX9TyPz7Mq1HMV9EIstG2QCZOT7",
   "collapsed_sections": [
    "qqRBBgTe-hR1",
    "2oYMxNIGcQYF",
    "9mEFqwRs8ED-",
    "G7Pqkqa-PAcY",
    "HYDwKozGSrhG",
    "mQO4E642Bho5",
    "rZ2jp6f_BnJ_",
    "-wmu4D61J-GW",
    "OD4Tn_WptGHs",
    "vi68H4P-S81C"
   ],
   "provenance": []
  },
  "kernelspec": {
   "display_name": "Python 3 (ipykernel)",
   "language": "python",
   "name": "python3"
  },
  "language_info": {
   "codemirror_mode": {
    "name": "ipython",
    "version": 3
   },
   "file_extension": ".py",
   "mimetype": "text/x-python",
   "name": "python",
   "nbconvert_exporter": "python",
   "pygments_lexer": "ipython3",
   "version": "3.11.5"
  }
 },
 "nbformat": 4,
 "nbformat_minor": 4
}
