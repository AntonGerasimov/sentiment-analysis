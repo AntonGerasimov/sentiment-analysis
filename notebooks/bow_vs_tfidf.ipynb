{
 "cells": [
  {
   "cell_type": "markdown",
   "metadata": {
    "id": "4zLpWyORX2Os"
   },
   "source": [
    "# Import and Read data"
   ]
  },
  {
   "cell_type": "code",
   "execution_count": 1,
   "metadata": {
    "executionInfo": {
     "elapsed": 3,
     "status": "ok",
     "timestamp": 1707126578125,
     "user": {
      "displayName": "Antony Gerasimov",
      "userId": "02899291570275696238"
     },
     "user_tz": -240
    },
    "id": "M-kHaQQVXxDR"
   },
   "outputs": [
    {
     "name": "stderr",
     "output_type": "stream",
     "text": [
      "[nltk_data] Downloading package stopwords to /Users/Anton/nltk_data...\n",
      "[nltk_data]   Package stopwords is already up-to-date!\n",
      "[nltk_data] Downloading package punkt to /Users/Anton/nltk_data...\n",
      "[nltk_data]   Package punkt is already up-to-date!\n",
      "[nltk_data] Downloading package wordnet to /Users/Anton/nltk_data...\n",
      "[nltk_data]   Package wordnet is already up-to-date!\n"
     ]
    }
   ],
   "source": [
    "import numpy as np\n",
    "import pandas as pd\n",
    "\n",
    "import matplotlib.pyplot as plt\n",
    "import seaborn as sns\n",
    "\n",
    "import os\n",
    "\n",
    "import re\n",
    "\n",
    "from pathlib import Path\n",
    "\n",
    "import nltk\n",
    "nltk.download('stopwords')\n",
    "nltk.download('punkt')\n",
    "nltk.download('wordnet')\n",
    "\n",
    "from nltk.tokenize import word_tokenize\n",
    "from nltk.stem import WordNetLemmatizer\n",
    "from nltk.corpus import stopwords\n",
    "\n",
    "from sklearn.feature_extraction.text import CountVectorizer, TfidfVectorizer\n",
    "\n",
    "from sklearn.model_selection import cross_val_score, GridSearchCV\n",
    "\n",
    "from sklearn.linear_model import LogisticRegression\n",
    "from sklearn.tree import DecisionTreeClassifier\n",
    "from sklearn.naive_bayes import GaussianNB\n",
    "\n",
    "from sklearn.metrics import accuracy_score, recall_score, f1_score\n",
    "\n",
    "from copy import copy"
   ]
  },
  {
   "cell_type": "markdown",
   "metadata": {
    "id": "L0NB5J1yZDX6"
   },
   "source": [
    "Read data"
   ]
  },
  {
   "cell_type": "code",
   "execution_count": 2,
   "metadata": {},
   "outputs": [
    {
     "name": "stdout",
     "output_type": "stream",
     "text": [
      "/Users/Anton/Documents/ds/new/final_project_epam_ds\n"
     ]
    }
   ],
   "source": [
    "main_dir = Path(os.path.abspath('')).parent\n",
    "print(main_dir)"
   ]
  },
  {
   "cell_type": "code",
   "execution_count": 3,
   "metadata": {
    "executionInfo": {
     "elapsed": 317,
     "status": "ok",
     "timestamp": 1707126582652,
     "user": {
      "displayName": "Antony Gerasimov",
      "userId": "02899291570275696238"
     },
     "user_tz": -240
    },
    "id": "IM48F9MSZHf_"
   },
   "outputs": [],
   "source": [
    "main_dir = Path(os.path.abspath('')).parent\n",
    "data_path = main_dir / 'data' / 'raw'\n",
    "train_file_name = \"train.csv\"\n",
    "test_file_name = \"test.csv\""
   ]
  },
  {
   "cell_type": "code",
   "execution_count": 4,
   "metadata": {
    "executionInfo": {
     "elapsed": 2946,
     "status": "ok",
     "timestamp": 1707126585892,
     "user": {
      "displayName": "Antony Gerasimov",
      "userId": "02899291570275696238"
     },
     "user_tz": -240
    },
    "id": "dUjWayGzaCtT"
   },
   "outputs": [],
   "source": [
    "train_data = pd.read_csv(os.path.join(data_path, train_file_name))"
   ]
  },
  {
   "cell_type": "code",
   "execution_count": 5,
   "metadata": {
    "executionInfo": {
     "elapsed": 462,
     "status": "ok",
     "timestamp": 1707126586352,
     "user": {
      "displayName": "Antony Gerasimov",
      "userId": "02899291570275696238"
     },
     "user_tz": -240
    },
    "id": "NTCVQ_o-QUhU"
   },
   "outputs": [],
   "source": [
    "test_data = pd.read_csv(os.path.join(data_path, test_file_name))"
   ]
  },
  {
   "cell_type": "markdown",
   "metadata": {
    "id": "zYcqTrvFcOR8"
   },
   "source": [
    "# Data preprocessing"
   ]
  },
  {
   "cell_type": "markdown",
   "metadata": {
    "id": "hpvSwvSfgcQf"
   },
   "source": [
    "# Data preprocessing with tokenization"
   ]
  },
  {
   "cell_type": "markdown",
   "metadata": {
    "id": "igVJoiJC9U-W"
   },
   "source": [
    "## Data preprocessing with tokenization"
   ]
  },
  {
   "cell_type": "code",
   "execution_count": 6,
   "metadata": {
    "executionInfo": {
     "elapsed": 1,
     "status": "ok",
     "timestamp": 1707126590064,
     "user": {
      "displayName": "Antony Gerasimov",
      "userId": "02899291570275696238"
     },
     "user_tz": -240
    },
    "id": "TvLUMloSg77c"
   },
   "outputs": [],
   "source": [
    "def preprocess_data(data, common_words):\n",
    "    data['review'] = data['review'].apply(remove_url)\n",
    "    data['review'] = data['review'].apply(remove_html_tags)\n",
    "    data['review'] = data['review'].apply(remove_non_alphanumeric)\n",
    "    data['review'] = data['review'].apply(convert_to_lowercase)\n",
    "    data['tokens'] = data['review'].apply(tokenization)\n",
    "    data['tokens'] = data['tokens'].apply(remove_short_words)\n",
    "    data['tokens'] = data['tokens'].apply(remove_stopwords)\n",
    "    data['tokens'] = data['tokens'].apply(lambda tokens: remove_common_words_from_tokens(tokens, common_words))\n",
    "    data['tokens'] = data['tokens'].apply(lemmatize_tokens)\n",
    "    return data"
   ]
  },
  {
   "cell_type": "code",
   "execution_count": 7,
   "metadata": {},
   "outputs": [],
   "source": [
    "def remove_url(review_text):\n",
    "    url_pattern = re.compile(r'https?://\\S+|www\\.\\S+')\n",
    "    return re.sub(url_pattern, '', review_text)"
   ]
  },
  {
   "cell_type": "code",
   "execution_count": 8,
   "metadata": {},
   "outputs": [],
   "source": [
    "def remove_html_tags(review_text):\n",
    "    html_pattern = re.compile('<.*?>')\n",
    "    return html_pattern.sub(r'', review_text)"
   ]
  },
  {
   "cell_type": "code",
   "execution_count": 9,
   "metadata": {},
   "outputs": [],
   "source": [
    "def remove_non_alphanumeric(review_text):\n",
    "    return re.sub(r'[^a-zA-Z]', ' ', review_text)"
   ]
  },
  {
   "cell_type": "code",
   "execution_count": 10,
   "metadata": {},
   "outputs": [],
   "source": [
    "def convert_to_lowercase(review_text):\n",
    "    review_text = review_text.lower()\n",
    "    return review_text"
   ]
  },
  {
   "cell_type": "code",
   "execution_count": 11,
   "metadata": {
    "executionInfo": {
     "elapsed": 406,
     "status": "ok",
     "timestamp": 1707126591027,
     "user": {
      "displayName": "Antony Gerasimov",
      "userId": "02899291570275696238"
     },
     "user_tz": -240
    },
    "id": "Kgdwu-w4hC91"
   },
   "outputs": [],
   "source": [
    "def tokenization(review_text):\n",
    "    return word_tokenize(review_text)"
   ]
  },
  {
   "cell_type": "code",
   "execution_count": 12,
   "metadata": {
    "executionInfo": {
     "elapsed": 2,
     "status": "ok",
     "timestamp": 1707126591307,
     "user": {
      "displayName": "Antony Gerasimov",
      "userId": "02899291570275696238"
     },
     "user_tz": -240
    },
    "id": "j6w93yDZjKOu"
   },
   "outputs": [],
   "source": [
    "def remove_short_words(tokens, min_length=3):\n",
    "    result = [word for word in tokens if len(word) > min_length]\n",
    "    return result"
   ]
  },
  {
   "cell_type": "code",
   "execution_count": 13,
   "metadata": {
    "executionInfo": {
     "elapsed": 2,
     "status": "ok",
     "timestamp": 1707126591576,
     "user": {
      "displayName": "Antony Gerasimov",
      "userId": "02899291570275696238"
     },
     "user_tz": -240
    },
    "id": "i1YLIx3vjKOu"
   },
   "outputs": [],
   "source": [
    "def remove_stopwords(tokens):\n",
    "    STOPWORDS = set(stopwords.words('english'))\n",
    "    result = [i for i in tokens if not i in STOPWORDS]\n",
    "    return result"
   ]
  },
  {
   "cell_type": "code",
   "execution_count": 14,
   "metadata": {
    "executionInfo": {
     "elapsed": 2,
     "status": "ok",
     "timestamp": 1707126593336,
     "user": {
      "displayName": "Antony Gerasimov",
      "userId": "02899291570275696238"
     },
     "user_tz": -240
    },
    "id": "-goDrWmxkoo_"
   },
   "outputs": [],
   "source": [
    "def lemmatize_tokens(tokens):\n",
    "    lemmatizer = WordNetLemmatizer()\n",
    "    return [lemmatizer.lemmatize(word) for word in tokens]"
   ]
  },
  {
   "cell_type": "code",
   "execution_count": 15,
   "metadata": {
    "executionInfo": {
     "elapsed": 2,
     "status": "ok",
     "timestamp": 1707126594201,
     "user": {
      "displayName": "Antony Gerasimov",
      "userId": "02899291570275696238"
     },
     "user_tz": -240
    },
    "id": "_HeXYiwrlGOI"
   },
   "outputs": [],
   "source": [
    "def remove_common_words_from_tokens(tokens, common_words):\n",
    "    return [token for token in tokens if token.lower() not in common_words]"
   ]
  },
  {
   "cell_type": "markdown",
   "metadata": {
    "id": "SesNA3NUSJFu"
   },
   "source": [
    "# Vectorization comparison"
   ]
  },
  {
   "cell_type": "markdown",
   "metadata": {
    "id": "mvFgEuk_kWuj"
   },
   "source": [
    "## Data preprocessing"
   ]
  },
  {
   "cell_type": "code",
   "execution_count": 43,
   "metadata": {
    "executionInfo": {
     "elapsed": 2,
     "status": "ok",
     "timestamp": 1707126595344,
     "user": {
      "displayName": "Antony Gerasimov",
      "userId": "02899291570275696238"
     },
     "user_tz": -240
    },
    "id": "7z-8GzXKkqeT"
   },
   "outputs": [],
   "source": [
    "common_words_path = main_dir / 'data' / 'processed'\n",
    "common_words_file_name = \"common_words.txt\""
   ]
  },
  {
   "cell_type": "code",
   "execution_count": 44,
   "metadata": {
    "executionInfo": {
     "elapsed": 1,
     "status": "ok",
     "timestamp": 1707126595923,
     "user": {
      "displayName": "Antony Gerasimov",
      "userId": "02899291570275696238"
     },
     "user_tz": -240
    },
    "id": "KdpwEd1-kqeT"
   },
   "outputs": [],
   "source": [
    "common_words_file_path = os.path.join(common_words_path, common_words_file_name)\n",
    "\n",
    "# Read the content of the file\n",
    "with open(common_words_file_path, 'r') as file:\n",
    "    common_words_content = file.read()\n",
    "\n",
    "# Split the content into a set of words\n",
    "common_words = set(word for word in common_words_content.split('\\n') if word)"
   ]
  },
  {
   "cell_type": "code",
   "execution_count": 45,
   "metadata": {
    "executionInfo": {
     "elapsed": 91034,
     "status": "ok",
     "timestamp": 1707126687606,
     "user": {
      "displayName": "Antony Gerasimov",
      "userId": "02899291570275696238"
     },
     "user_tz": -240
    },
    "id": "cBxvc-KmkqeU"
   },
   "outputs": [],
   "source": [
    "train_data_tokens = preprocess_data(train_data, common_words)"
   ]
  },
  {
   "cell_type": "code",
   "execution_count": 46,
   "metadata": {
    "executionInfo": {
     "elapsed": 16923,
     "status": "ok",
     "timestamp": 1707126704518,
     "user": {
      "displayName": "Antony Gerasimov",
      "userId": "02899291570275696238"
     },
     "user_tz": -240
    },
    "id": "Kri35zx_kqeU"
   },
   "outputs": [],
   "source": [
    "test_data_tokens = preprocess_data(test_data, common_words)"
   ]
  },
  {
   "cell_type": "code",
   "execution_count": 47,
   "metadata": {
    "colab": {
     "base_uri": "https://localhost:8080/",
     "height": 206
    },
    "executionInfo": {
     "elapsed": 15,
     "status": "ok",
     "timestamp": 1707126704518,
     "user": {
      "displayName": "Antony Gerasimov",
      "userId": "02899291570275696238"
     },
     "user_tz": -240
    },
    "id": "dew4iTT-kqeU",
    "outputId": "919cdcbb-8511-47d5-9e15-5943e5abccf8"
   },
   "outputs": [
    {
     "data": {
      "text/html": [
       "<div>\n",
       "<style scoped>\n",
       "    .dataframe tbody tr th:only-of-type {\n",
       "        vertical-align: middle;\n",
       "    }\n",
       "\n",
       "    .dataframe tbody tr th {\n",
       "        vertical-align: top;\n",
       "    }\n",
       "\n",
       "    .dataframe thead th {\n",
       "        text-align: right;\n",
       "    }\n",
       "</style>\n",
       "<table border=\"1\" class=\"dataframe\">\n",
       "  <thead>\n",
       "    <tr style=\"text-align: right;\">\n",
       "      <th></th>\n",
       "      <th>review</th>\n",
       "      <th>sentiment</th>\n",
       "      <th>tokens</th>\n",
       "    </tr>\n",
       "  </thead>\n",
       "  <tbody>\n",
       "    <tr>\n",
       "      <th>0</th>\n",
       "      <td>i caught this little gem totally by accident b...</td>\n",
       "      <td>positive</td>\n",
       "      <td>[caught, little, totally, accident, back, revi...</td>\n",
       "    </tr>\n",
       "    <tr>\n",
       "      <th>1</th>\n",
       "      <td>i can t believe that i let myself into this mo...</td>\n",
       "      <td>negative</td>\n",
       "      <td>[believe, accomplish, favor, friend, early, ap...</td>\n",
       "    </tr>\n",
       "    <tr>\n",
       "      <th>2</th>\n",
       "      <td>spoiler alert   it just gets to me the nerve ...</td>\n",
       "      <td>negative</td>\n",
       "      <td>[spoiler, alert, get, nerve, people, remake, t...</td>\n",
       "    </tr>\n",
       "    <tr>\n",
       "      <th>3</th>\n",
       "      <td>if there s one thing i ve learnt from watching...</td>\n",
       "      <td>negative</td>\n",
       "      <td>[thing, learnt, watching, george, romero, cree...</td>\n",
       "    </tr>\n",
       "    <tr>\n",
       "      <th>4</th>\n",
       "      <td>i remember when this was in theaters  reviews ...</td>\n",
       "      <td>negative</td>\n",
       "      <td>[remember, theater, review, said, horrible, we...</td>\n",
       "    </tr>\n",
       "  </tbody>\n",
       "</table>\n",
       "</div>"
      ],
      "text/plain": [
       "                                              review sentiment  \\\n",
       "0  i caught this little gem totally by accident b...  positive   \n",
       "1  i can t believe that i let myself into this mo...  negative   \n",
       "2   spoiler alert   it just gets to me the nerve ...  negative   \n",
       "3  if there s one thing i ve learnt from watching...  negative   \n",
       "4  i remember when this was in theaters  reviews ...  negative   \n",
       "\n",
       "                                              tokens  \n",
       "0  [caught, little, totally, accident, back, revi...  \n",
       "1  [believe, accomplish, favor, friend, early, ap...  \n",
       "2  [spoiler, alert, get, nerve, people, remake, t...  \n",
       "3  [thing, learnt, watching, george, romero, cree...  \n",
       "4  [remember, theater, review, said, horrible, we...  "
      ]
     },
     "execution_count": 47,
     "metadata": {},
     "output_type": "execute_result"
    }
   ],
   "source": [
    "train_data_tokens.head()"
   ]
  },
  {
   "cell_type": "code",
   "execution_count": 48,
   "metadata": {
    "executionInfo": {
     "elapsed": 5,
     "status": "ok",
     "timestamp": 1707126704519,
     "user": {
      "displayName": "Antony Gerasimov",
      "userId": "02899291570275696238"
     },
     "user_tz": -240
    },
    "id": "cjLMcDAkkvt3"
   },
   "outputs": [],
   "source": [
    "X_train = train_data_tokens['tokens']\n",
    "X_test = test_data_tokens['tokens']\n",
    "y_train = train_data_tokens['sentiment']\n",
    "y_test = test_data_tokens['sentiment']"
   ]
  },
  {
   "cell_type": "code",
   "execution_count": null,
   "metadata": {
    "scrolled": false
   },
   "outputs": [],
   "source": []
  },
  {
   "cell_type": "markdown",
   "metadata": {
    "id": "Pfv8h6l6_9LQ"
   },
   "source": [
    "## Vectors initialization"
   ]
  },
  {
   "cell_type": "code",
   "execution_count": 53,
   "metadata": {},
   "outputs": [],
   "source": [
    "def identity_tokenizer(text):\n",
    "    return text"
   ]
  },
  {
   "cell_type": "code",
   "execution_count": 54,
   "metadata": {
    "executionInfo": {
     "elapsed": 10404,
     "status": "ok",
     "timestamp": 1707126714919,
     "user": {
      "displayName": "Antony Gerasimov",
      "userId": "02899291570275696238"
     },
     "user_tz": -240
    },
    "id": "H5TsCpjbksd-"
   },
   "outputs": [],
   "source": [
    "bow_vec = CountVectorizer(token_pattern=None, tokenizer=identity_tokenizer, lowercase=False)\n",
    "X_train_bow = bow_vec.fit_transform(X_train).toarray()\n",
    "X_test_bow = bow_vec.transform(X_test).toarray()\n",
    "tfidf_vec = TfidfVectorizer (max_features=2000, min_df=7, max_df=0.8, token_pattern=None, tokenizer=identity_tokenizer, lowercase=False)\n",
    "X_train_tfidf = tfidf_vec.fit_transform(X_train)\n",
    "X_test_tfidf = tfidf_vec.transform(X_test)"
   ]
  },
  {
   "cell_type": "code",
   "execution_count": 55,
   "metadata": {
    "colab": {
     "base_uri": "https://localhost:8080/"
    },
    "executionInfo": {
     "elapsed": 13,
     "status": "ok",
     "timestamp": 1707126714919,
     "user": {
      "displayName": "Antony Gerasimov",
      "userId": "02899291570275696238"
     },
     "user_tz": -240
    },
    "id": "ojefuU9kkuJn",
    "outputId": "d7c87dc5-63a9-4a5f-a5c3-ee2090e26851"
   },
   "outputs": [
    {
     "name": "stdout",
     "output_type": "stream",
     "text": [
      "(40000, 80478)\n",
      "(10000, 80478)\n"
     ]
    }
   ],
   "source": [
    "print(X_train_bow.shape)\n",
    "print(X_test_bow.shape)"
   ]
  },
  {
   "cell_type": "code",
   "execution_count": 56,
   "metadata": {
    "colab": {
     "base_uri": "https://localhost:8080/"
    },
    "executionInfo": {
     "elapsed": 12,
     "status": "ok",
     "timestamp": 1707126724993,
     "user": {
      "displayName": "Antony Gerasimov",
      "userId": "02899291570275696238"
     },
     "user_tz": -240
    },
    "id": "PKsImh1xkpCe",
    "outputId": "d8815a72-c38d-470e-af22-1c97d48a1e02"
   },
   "outputs": [
    {
     "name": "stdout",
     "output_type": "stream",
     "text": [
      "(40000, 2000)\n",
      "(10000, 2000)\n"
     ]
    }
   ],
   "source": [
    "print(X_train_tfidf.shape)\n",
    "print(X_test_tfidf.shape)"
   ]
  },
  {
   "cell_type": "markdown",
   "metadata": {
    "id": "hexZFyTCA4ro"
   },
   "source": [
    "As we can see, with TF-IDF we can make vectors with much less dimensions. Below is the explanation, why we need to use max_features = 2500"
   ]
  },
  {
   "cell_type": "markdown",
   "metadata": {
    "id": "boZNkjNqGjm0"
   },
   "source": [
    "### max_features tuning"
   ]
  },
  {
   "cell_type": "markdown",
   "metadata": {},
   "source": [
    "For max_features tuning I use default Logistic Regression model, as it evaluates fast and from my future experience in current task it provides us with good results"
   ]
  },
  {
   "cell_type": "code",
   "execution_count": 57,
   "metadata": {},
   "outputs": [],
   "source": [
    "def prepare_plot_data(model):\n",
    "    tfidf_vectorizer = TfidfVectorizer(token_pattern=None, tokenizer=identity_tokenizer, lowercase=False)\n",
    "    max_features_values = [100, 500, 1000, 1500, 2000, 2500, 3000, 3500, 4000, 4500]\n",
    "\n",
    "    # Dictionary to store results\n",
    "    results = {}\n",
    "\n",
    "    # Loop over max_features values and compute cross-validation scores\n",
    "    for max_features in max_features_values:\n",
    "        tfidf_vectorizer.set_params(max_features=max_features)\n",
    "        X_train_tfidf_vector =  tfidf_vectorizer.fit_transform(train_data_tokens['tokens']).toarray()\n",
    "        tfidf_matrix_test = tfidf_vectorizer.transform(test_data_tokens['tokens'])\n",
    "        X_test_tfidf_vector = tfidf_matrix_test.toarray()\n",
    "        model.fit(X_train_tfidf_vector, y_train)\n",
    "        scores = cross_val_score(model, X_train_tfidf_vector, y_train, cv=5, n_jobs=-1)\n",
    "        results[max_features] = scores.mean()\n",
    "    \n",
    "    # Print the results\n",
    "    for max_features, mean_score in results.items():\n",
    "        print(f\"Max Features: {max_features}, Mean Cross-Validation Score: {round(mean_score,3)}\")\n",
    "    return list(results.keys()), list(results.values())"
   ]
  },
  {
   "cell_type": "code",
   "execution_count": 61,
   "metadata": {},
   "outputs": [],
   "source": [
    "def make_plot(model, text, mean_bow_acc):\n",
    "    max_features_values, mean_scores = prepare_plot_data(model)\n",
    "    \n",
    "    plt.figure(figsize=(10, 6))\n",
    "    plt.plot(max_features_values, mean_scores, marker='o')\n",
    "    plt.title(f'Mean Cross-Validation Score vs Max Features. {text}')\n",
    "    plt.xlabel('Max Features')\n",
    "    plt.ylabel('Mean TF-IDF Cross-Validation Score')\n",
    "    plt.axhline(y=mean_bow_acc, color='red', linestyle='--', label = f'Mean bow Cross-Validation Score:{round(mean_bow_acc,3)}')\n",
    "    plt.legend()\n",
    "    plt.ylim(np.min(mean_scores) - 0.02, mean_bow_acc + 0.02)  # Set your desired y-axis bounds\n",
    "    plt.grid(True)\n",
    "    plt.show()"
   ]
  },
  {
   "cell_type": "code",
   "execution_count": 59,
   "metadata": {},
   "outputs": [],
   "source": [
    "model_lg = LogisticRegression(max_iter = 1000, random_state = 42)"
   ]
  },
  {
   "cell_type": "code",
   "execution_count": 62,
   "metadata": {},
   "outputs": [
    {
     "name": "stdout",
     "output_type": "stream",
     "text": [
      "Max Features: 100, Mean Cross-Validation Score: 0.72\n",
      "Max Features: 500, Mean Cross-Validation Score: 0.833\n",
      "Max Features: 1000, Mean Cross-Validation Score: 0.856\n",
      "Max Features: 1500, Mean Cross-Validation Score: 0.867\n",
      "Max Features: 2000, Mean Cross-Validation Score: 0.872\n",
      "Max Features: 2500, Mean Cross-Validation Score: 0.875\n",
      "Max Features: 3000, Mean Cross-Validation Score: 0.877\n",
      "Max Features: 3500, Mean Cross-Validation Score: 0.879\n",
      "Max Features: 4000, Mean Cross-Validation Score: 0.881\n",
      "Max Features: 4500, Mean Cross-Validation Score: 0.882\n"
     ]
    },
    {
     "data": {
      "image/png": "[encoded data removed]",
      "text/plain": [
       "<Figure size 1000x600 with 1 Axes>"
      ]
     },
     "metadata": {},
     "output_type": "display_data"
    }
   ],
   "source": [
    "make_plot(model_lg, 'Logistic regression', 0.885)"
   ]
  },
  {
   "cell_type": "code",
   "execution_count": null,
   "metadata": {},
   "outputs": [],
   "source": []
  },
  {
   "cell_type": "code",
   "execution_count": 63,
   "metadata": {},
   "outputs": [],
   "source": [
    "model_dt = DecisionTreeClassifier(max_depth=20, random_state = 42)"
   ]
  },
  {
   "cell_type": "code",
   "execution_count": 64,
   "metadata": {},
   "outputs": [
    {
     "name": "stdout",
     "output_type": "stream",
     "text": [
      "Max Features: 100, Mean Cross-Validation Score: 0.639\n",
      "Max Features: 500, Mean Cross-Validation Score: 0.723\n",
      "Max Features: 1000, Mean Cross-Validation Score: 0.727\n",
      "Max Features: 1500, Mean Cross-Validation Score: 0.726\n",
      "Max Features: 2000, Mean Cross-Validation Score: 0.726\n",
      "Max Features: 2500, Mean Cross-Validation Score: 0.73\n",
      "Max Features: 3000, Mean Cross-Validation Score: 0.73\n",
      "Max Features: 3500, Mean Cross-Validation Score: 0.731\n",
      "Max Features: 4000, Mean Cross-Validation Score: 0.728\n",
      "Max Features: 4500, Mean Cross-Validation Score: 0.731\n"
     ]
    },
    {
     "data": {
      "image/png": "[encoded data removed]",
      "text/plain": [
       "<Figure size 1000x600 with 1 Axes>"
      ]
     },
     "metadata": {},
     "output_type": "display_data"
    }
   ],
   "source": [
    "make_plot(model_dt, 'Decision tree', 0.747)"
   ]
  },
  {
   "cell_type": "markdown",
   "metadata": {},
   "source": [
    "My computer can't calculate naive bayes for bag of words"
   ]
  },
  {
   "cell_type": "code",
   "execution_count": 29,
   "metadata": {},
   "outputs": [],
   "source": [
    "model = GaussianNB()"
   ]
  },
  {
   "cell_type": "code",
   "execution_count": 30,
   "metadata": {},
   "outputs": [
    {
     "name": "stdout",
     "output_type": "stream",
     "text": [
      "Max Features: 100, Mean Cross-Validation Score: 0.698\n",
      "Max Features: 500, Mean Cross-Validation Score: 0.798\n",
      "Max Features: 1000, Mean Cross-Validation Score: 0.811\n",
      "Max Features: 1500, Mean Cross-Validation Score: 0.812\n",
      "Max Features: 2000, Mean Cross-Validation Score: 0.81\n",
      "Max Features: 2500, Mean Cross-Validation Score: 0.809\n",
      "Max Features: 3000, Mean Cross-Validation Score: 0.807\n",
      "Max Features: 3500, Mean Cross-Validation Score: 0.806\n",
      "Max Features: 4000, Mean Cross-Validation Score: 0.803\n",
      "Max Features: 4500, Mean Cross-Validation Score: 0.8\n"
     ]
    }
   ],
   "source": [
    "max_features_values, mean_scores = prepare_plot_data(model)"
   ]
  },
  {
   "cell_type": "code",
   "execution_count": 31,
   "metadata": {},
   "outputs": [
    {
     "data": {
      "image/png": "[encoded data removed]",
      "text/plain": [
       "<Figure size 1000x600 with 1 Axes>"
      ]
     },
     "metadata": {},
     "output_type": "display_data"
    }
   ],
   "source": [
    "plt.figure(figsize=(10, 6))\n",
    "plt.plot(max_features_values, mean_scores, marker='o')\n",
    "plt.title(f'Mean Cross-Validation Score vs Max Features. Naive bayes')\n",
    "plt.xlabel('Max Features')\n",
    "plt.ylabel('Mean TF-IDF Cross-Validation Score')\n",
    "plt.grid(True)\n",
    "plt.show()"
   ]
  },
  {
   "cell_type": "code",
   "execution_count": null,
   "metadata": {},
   "outputs": [],
   "source": []
  },
  {
   "cell_type": "code",
   "execution_count": null,
   "metadata": {},
   "outputs": [],
   "source": []
  },
  {
   "cell_type": "code",
   "execution_count": null,
   "metadata": {},
   "outputs": [],
   "source": []
  },
  {
   "cell_type": "code",
   "execution_count": null,
   "metadata": {},
   "outputs": [],
   "source": []
  },
  {
   "cell_type": "code",
   "execution_count": null,
   "metadata": {},
   "outputs": [],
   "source": []
  },
  {
   "cell_type": "code",
   "execution_count": 46,
   "metadata": {
    "id": "5hvXk5qMMlVZ"
   },
   "outputs": [],
   "source": [
    "tfidf_vectorizer = TfidfVectorizer(tokenizer=identity_tokenizer, lowercase=False)"
   ]
  },
  {
   "cell_type": "code",
   "execution_count": 50,
   "metadata": {
    "colab": {
     "base_uri": "https://localhost:8080/"
    },
    "executionInfo": {
     "elapsed": 158016,
     "status": "ok",
     "timestamp": 1706782424824,
     "user": {
      "displayName": "Antony Gerasimov",
      "userId": "02899291570275696238"
     },
     "user_tz": -240
    },
    "id": "6QhJ3CmWMk22",
    "outputId": "6efcccbf-e3ca-44a6-cbd8-e24feaa5de6e"
   },
   "outputs": [
    {
     "name": "stdout",
     "output_type": "stream",
     "text": [
      "Max Features: 100, Mean Cross-Validation Score: 0.7197000000000001\n",
      "Max Features: 500, Mean Cross-Validation Score: 0.832575\n",
      "Max Features: 1000, Mean Cross-Validation Score: 0.8564499999999999\n",
      "Max Features: 1500, Mean Cross-Validation Score: 0.8665999999999998\n",
      "Max Features: 2000, Mean Cross-Validation Score: 0.8715249999999999\n",
      "Max Features: 2500, Mean Cross-Validation Score: 0.874925\n",
      "Max Features: 3000, Mean Cross-Validation Score: 0.87715\n",
      "Max Features: 3500, Mean Cross-Validation Score: 0.879175\n",
      "Max Features: 4000, Mean Cross-Validation Score: 0.881075\n",
      "Max Features: 4500, Mean Cross-Validation Score: 0.88235\n"
     ]
    }
   ],
   "source": [
    "# Define the values of max_features to try\n",
    "max_features_values = [100, 500, 1000, 1500, 2000, 2500, 3000, 3500, 4000, 4500]\n",
    "\n",
    "# Dictionary to store results\n",
    "results = {}\n",
    "\n",
    "# Loop over max_features values and compute cross-validation scores\n",
    "for max_features in max_features_values:\n",
    "    tfidf_vectorizer.set_params(max_features=max_features)\n",
    "    X_train_tfidf_vector =  tfidf_vectorizer.fit_transform(train_data_tokens['tokens']).toarray()\n",
    "    tfidf_matrix_test = tfidf_vectorizer.transform(test_data_tokens['tokens'])\n",
    "    X_test_tfidf_vector = tfidf_matrix_test.toarray()\n",
    "    model = LogisticRegression()\n",
    "    model.fit(X_train_tfidf_vector, y_train)\n",
    "    scores = cross_val_score(model, X_train_tfidf_vector, y_train, cv=5, n_jobs=-1)\n",
    "    results[max_features] = scores.mean()\n",
    "\n",
    "# Print the results\n",
    "for max_features, mean_score in results.items():\n",
    "    print(f\"Max Features: {max_features}, Mean Cross-Validation Score: {mean_score}\")"
   ]
  },
  {
   "cell_type": "code",
   "execution_count": 64,
   "metadata": {},
   "outputs": [],
   "source": [
    "max_features_values = list(results.keys())\n",
    "mean_scores = list(results.values())\n",
    "bow_score = 0.885"
   ]
  },
  {
   "cell_type": "code",
   "execution_count": 65,
   "metadata": {
    "colab": {
     "base_uri": "https://localhost:8080/",
     "height": 564
    },
    "executionInfo": {
     "elapsed": 1563,
     "status": "ok",
     "timestamp": 1706782650318,
     "user": {
      "displayName": "Antony Gerasimov",
      "userId": "02899291570275696238"
     },
     "user_tz": -240
    },
    "id": "AkRdpupyLFJA",
    "outputId": "1f6ea843-05f6-41f4-9842-ce85d9f44c0e"
   },
   "outputs": [
    {
     "data": {
      "image/png": "[encoded data removed]",
      "text/plain": [
       "<Figure size 1000x600 with 1 Axes>"
      ]
     },
     "metadata": {},
     "output_type": "display_data"
    }
   ],
   "source": [
    "# Plotting\n",
    "plt.figure(figsize=(10, 6))\n",
    "plt.plot(max_features_values, mean_scores, marker='o')\n",
    "plt.title('Mean Cross-Validation Score vs Max Features')\n",
    "plt.xlabel('Max Features')\n",
    "plt.ylabel('Mean TF-IDF Cross-Validation Score')\n",
    "plt.axhline(y=bow_score, color='red', linestyle='--', label=f'Mean bow Cross-Validation Score: {round(bow_score, 2)}')\n",
    "plt.legend()\n",
    "plt.ylim(0.71, bow_score + 0.05)  # Set your desired y-axis bounds\n",
    "plt.grid(True)\n",
    "plt.show()"
   ]
  },
  {
   "cell_type": "markdown",
   "metadata": {
    "id": "9eFW0m44U0sB"
   },
   "source": [
    "I will use max_features = 2000"
   ]
  },
  {
   "cell_type": "markdown",
   "metadata": {
    "id": "0AB5Mq42q2JD"
   },
   "source": [
    "## Comparing max_features = 2000 and bag of words"
   ]
  },
  {
   "cell_type": "code",
   "execution_count": null,
   "metadata": {
    "executionInfo": {
     "elapsed": 287,
     "status": "ok",
     "timestamp": 1707131835799,
     "user": {
      "displayName": "Antony Gerasimov",
      "userId": "02899291570275696238"
     },
     "user_tz": -240
    },
    "id": "5uT-2JwA5OvS"
   },
   "outputs": [],
   "source": [
    "def calc_metrics(model, vectors):\n",
    "  prediction = model.predict(vectors)\n",
    "  accuracy = accuracy_score(y_test, prediction)\n",
    "  print(f\"Accuracy: {round(accuracy*100, 1)}%\")\n",
    "\n",
    "  pos_label = 'negative'\n",
    "\n",
    "  recall = recall_score(y_test, prediction, pos_label=pos_label)\n",
    "  print(f\"Recall: {round(recall*100,1)}%\")\n",
    "  f1 = f1_score(y_test, prediction, pos_label=pos_label)\n",
    "  print(f\"F1-score: {round(f1*100, 1)}%\")"
   ]
  },
  {
   "cell_type": "code",
   "execution_count": 32,
   "metadata": {},
   "outputs": [],
   "source": [
    "bow_vec = CountVectorizer()\n",
    "X_train_bow = bow_vec.fit_transform(X_train).toarray()\n",
    "X_test_bow = bow_vec.transform(X_test).toarray()\n",
    "tfidf_vec = TfidfVectorizer (max_features=2000, min_df=7, max_df=0.8, stop_words=stopwords.words('english'))\n",
    "X_train_tfidf = tfidf_vec.fit_transform(X_train)\n",
    "X_test_tfidf = tfidf_vec.transform(X_test)"
   ]
  },
  {
   "cell_type": "code",
   "execution_count": null,
   "metadata": {},
   "outputs": [],
   "source": [
    "logreg_bow = LogisticRegression(max_iter = 1000, random_state = 42, solver = 'saga', penalty = 'l1')\n",
    "logreg_bow.fit(X_train_bow, y_train)"
   ]
  },
  {
   "cell_type": "code",
   "execution_count": null,
   "metadata": {},
   "outputs": [],
   "source": [
    "logreg_tfidf = LogisticRegression(max_iter = 1000, random_state = 42)\n",
    "logreg_tfidf.fit(X_test_tfidf, y_test)"
   ]
  },
  {
   "cell_type": "code",
   "execution_count": null,
   "metadata": {
    "colab": {
     "base_uri": "https://localhost:8080/"
    },
    "executionInfo": {
     "elapsed": 716,
     "status": "ok",
     "timestamp": 1707131855678,
     "user": {
      "displayName": "Antony Gerasimov",
      "userId": "02899291570275696238"
     },
     "user_tz": -240
    },
    "id": "6Bx9iAcUq3Rk",
    "outputId": "26377269-e24c-4053-c6d7-14f6f7b6d704"
   },
   "outputs": [],
   "source": [
    "calc_metrics(logreg_bow, X_test_bow)"
   ]
  },
  {
   "cell_type": "code",
   "execution_count": null,
   "metadata": {
    "colab": {
     "base_uri": "https://localhost:8080/"
    },
    "executionInfo": {
     "elapsed": 440,
     "status": "ok",
     "timestamp": 1707131877164,
     "user": {
      "displayName": "Antony Gerasimov",
      "userId": "02899291570275696238"
     },
     "user_tz": -240
    },
    "id": "IcgbEq-i5ogx",
    "outputId": "0ddafc6a-9eea-43dc-f295-9b56ddbe3b2a"
   },
   "outputs": [],
   "source": [
    "calc_metrics(logreg_tfidf, X_test_tfidf)"
   ]
  },
  {
   "cell_type": "code",
   "execution_count": 34,
   "metadata": {},
   "outputs": [
    {
     "data": {
      "text/html": [
       "<style>#sk-container-id-1 {color: black;}#sk-container-id-1 pre{padding: 0;}#sk-container-id-1 div.sk-toggleable {background-color: white;}#sk-container-id-1 label.sk-toggleable__label {cursor: pointer;display: block;width: 100%;margin-bottom: 0;padding: 0.3em;box-sizing: border-box;text-align: center;}#sk-container-id-1 label.sk-toggleable__label-arrow:before {content: \"▸\";float: left;margin-right: 0.25em;color: #696969;}#sk-container-id-1 label.sk-toggleable__label-arrow:hover:before {color: black;}#sk-container-id-1 div.sk-estimator:hover label.sk-toggleable__label-arrow:before {color: black;}#sk-container-id-1 div.sk-toggleable__content {max-height: 0;max-width: 0;overflow: hidden;text-align: left;background-color: #f0f8ff;}#sk-container-id-1 div.sk-toggleable__content pre {margin: 0.2em;color: black;border-radius: 0.25em;background-color: #f0f8ff;}#sk-container-id-1 input.sk-toggleable__control:checked~div.sk-toggleable__content {max-height: 200px;max-width: 100%;overflow: auto;}#sk-container-id-1 input.sk-toggleable__control:checked~label.sk-toggleable__label-arrow:before {content: \"▾\";}#sk-container-id-1 div.sk-estimator input.sk-toggleable__control:checked~label.sk-toggleable__label {background-color: #d4ebff;}#sk-container-id-1 div.sk-label input.sk-toggleable__control:checked~label.sk-toggleable__label {background-color: #d4ebff;}#sk-container-id-1 input.sk-hidden--visually {border: 0;clip: rect(1px 1px 1px 1px);clip: rect(1px, 1px, 1px, 1px);height: 1px;margin: -1px;overflow: hidden;padding: 0;position: absolute;width: 1px;}#sk-container-id-1 div.sk-estimator {font-family: monospace;background-color: #f0f8ff;border: 1px dotted black;border-radius: 0.25em;box-sizing: border-box;margin-bottom: 0.5em;}#sk-container-id-1 div.sk-estimator:hover {background-color: #d4ebff;}#sk-container-id-1 div.sk-parallel-item::after {content: \"\";width: 100%;border-bottom: 1px solid gray;flex-grow: 1;}#sk-container-id-1 div.sk-label:hover label.sk-toggleable__label {background-color: #d4ebff;}#sk-container-id-1 div.sk-serial::before {content: \"\";position: absolute;border-left: 1px solid gray;box-sizing: border-box;top: 0;bottom: 0;left: 50%;z-index: 0;}#sk-container-id-1 div.sk-serial {display: flex;flex-direction: column;align-items: center;background-color: white;padding-right: 0.2em;padding-left: 0.2em;position: relative;}#sk-container-id-1 div.sk-item {position: relative;z-index: 1;}#sk-container-id-1 div.sk-parallel {display: flex;align-items: stretch;justify-content: center;background-color: white;position: relative;}#sk-container-id-1 div.sk-item::before, #sk-container-id-1 div.sk-parallel-item::before {content: \"\";position: absolute;border-left: 1px solid gray;box-sizing: border-box;top: 0;bottom: 0;left: 50%;z-index: -1;}#sk-container-id-1 div.sk-parallel-item {display: flex;flex-direction: column;z-index: 1;position: relative;background-color: white;}#sk-container-id-1 div.sk-parallel-item:first-child::after {align-self: flex-end;width: 50%;}#sk-container-id-1 div.sk-parallel-item:last-child::after {align-self: flex-start;width: 50%;}#sk-container-id-1 div.sk-parallel-item:only-child::after {width: 0;}#sk-container-id-1 div.sk-dashed-wrapped {border: 1px dashed gray;margin: 0 0.4em 0.5em 0.4em;box-sizing: border-box;padding-bottom: 0.4em;background-color: white;}#sk-container-id-1 div.sk-label label {font-family: monospace;font-weight: bold;display: inline-block;line-height: 1.2em;}#sk-container-id-1 div.sk-label-container {text-align: center;}#sk-container-id-1 div.sk-container {/* jupyter's `normalize.less` sets `[hidden] { display: none; }` but bootstrap.min.css set `[hidden] { display: none !important; }` so we also need the `!important` here to be able to override the default hidden behavior on the sphinx rendered scikit-learn.org. See: https://github.com/scikit-learn/scikit-learn/issues/21755 */display: inline-block !important;position: relative;}#sk-container-id-1 div.sk-text-repr-fallback {display: none;}</style><div id=\"sk-container-id-1\" class=\"sk-top-container\"><div class=\"sk-text-repr-fallback\"><pre>DecisionTreeClassifier(max_depth=20, random_state=42)</pre><b>In a Jupyter environment, please rerun this cell to show the HTML representation or trust the notebook. <br />On GitHub, the HTML representation is unable to render, please try loading this page with nbviewer.org.</b></div><div class=\"sk-container\" hidden><div class=\"sk-item\"><div class=\"sk-estimator sk-toggleable\"><input class=\"sk-toggleable__control sk-hidden--visually\" id=\"sk-estimator-id-1\" type=\"checkbox\" checked><label for=\"sk-estimator-id-1\" class=\"sk-toggleable__label sk-toggleable__label-arrow\">DecisionTreeClassifier</label><div class=\"sk-toggleable__content\"><pre>DecisionTreeClassifier(max_depth=20, random_state=42)</pre></div></div></div></div></div>"
      ],
      "text/plain": [
       "DecisionTreeClassifier(max_depth=20, random_state=42)"
      ]
     },
     "execution_count": 34,
     "metadata": {},
     "output_type": "execute_result"
    }
   ],
   "source": [
    "dt_bow = DecisionTreeClassifier(max_depth=20, random_state = 42)\n",
    "dt_bow.fit(X_train_bow, y_train)"
   ]
  },
  {
   "cell_type": "code",
   "execution_count": 36,
   "metadata": {},
   "outputs": [
    {
     "data": {
      "text/html": [
       "<style>#sk-container-id-2 {color: black;}#sk-container-id-2 pre{padding: 0;}#sk-container-id-2 div.sk-toggleable {background-color: white;}#sk-container-id-2 label.sk-toggleable__label {cursor: pointer;display: block;width: 100%;margin-bottom: 0;padding: 0.3em;box-sizing: border-box;text-align: center;}#sk-container-id-2 label.sk-toggleable__label-arrow:before {content: \"▸\";float: left;margin-right: 0.25em;color: #696969;}#sk-container-id-2 label.sk-toggleable__label-arrow:hover:before {color: black;}#sk-container-id-2 div.sk-estimator:hover label.sk-toggleable__label-arrow:before {color: black;}#sk-container-id-2 div.sk-toggleable__content {max-height: 0;max-width: 0;overflow: hidden;text-align: left;background-color: #f0f8ff;}#sk-container-id-2 div.sk-toggleable__content pre {margin: 0.2em;color: black;border-radius: 0.25em;background-color: #f0f8ff;}#sk-container-id-2 input.sk-toggleable__control:checked~div.sk-toggleable__content {max-height: 200px;max-width: 100%;overflow: auto;}#sk-container-id-2 input.sk-toggleable__control:checked~label.sk-toggleable__label-arrow:before {content: \"▾\";}#sk-container-id-2 div.sk-estimator input.sk-toggleable__control:checked~label.sk-toggleable__label {background-color: #d4ebff;}#sk-container-id-2 div.sk-label input.sk-toggleable__control:checked~label.sk-toggleable__label {background-color: #d4ebff;}#sk-container-id-2 input.sk-hidden--visually {border: 0;clip: rect(1px 1px 1px 1px);clip: rect(1px, 1px, 1px, 1px);height: 1px;margin: -1px;overflow: hidden;padding: 0;position: absolute;width: 1px;}#sk-container-id-2 div.sk-estimator {font-family: monospace;background-color: #f0f8ff;border: 1px dotted black;border-radius: 0.25em;box-sizing: border-box;margin-bottom: 0.5em;}#sk-container-id-2 div.sk-estimator:hover {background-color: #d4ebff;}#sk-container-id-2 div.sk-parallel-item::after {content: \"\";width: 100%;border-bottom: 1px solid gray;flex-grow: 1;}#sk-container-id-2 div.sk-label:hover label.sk-toggleable__label {background-color: #d4ebff;}#sk-container-id-2 div.sk-serial::before {content: \"\";position: absolute;border-left: 1px solid gray;box-sizing: border-box;top: 0;bottom: 0;left: 50%;z-index: 0;}#sk-container-id-2 div.sk-serial {display: flex;flex-direction: column;align-items: center;background-color: white;padding-right: 0.2em;padding-left: 0.2em;position: relative;}#sk-container-id-2 div.sk-item {position: relative;z-index: 1;}#sk-container-id-2 div.sk-parallel {display: flex;align-items: stretch;justify-content: center;background-color: white;position: relative;}#sk-container-id-2 div.sk-item::before, #sk-container-id-2 div.sk-parallel-item::before {content: \"\";position: absolute;border-left: 1px solid gray;box-sizing: border-box;top: 0;bottom: 0;left: 50%;z-index: -1;}#sk-container-id-2 div.sk-parallel-item {display: flex;flex-direction: column;z-index: 1;position: relative;background-color: white;}#sk-container-id-2 div.sk-parallel-item:first-child::after {align-self: flex-end;width: 50%;}#sk-container-id-2 div.sk-parallel-item:last-child::after {align-self: flex-start;width: 50%;}#sk-container-id-2 div.sk-parallel-item:only-child::after {width: 0;}#sk-container-id-2 div.sk-dashed-wrapped {border: 1px dashed gray;margin: 0 0.4em 0.5em 0.4em;box-sizing: border-box;padding-bottom: 0.4em;background-color: white;}#sk-container-id-2 div.sk-label label {font-family: monospace;font-weight: bold;display: inline-block;line-height: 1.2em;}#sk-container-id-2 div.sk-label-container {text-align: center;}#sk-container-id-2 div.sk-container {/* jupyter's `normalize.less` sets `[hidden] { display: none; }` but bootstrap.min.css set `[hidden] { display: none !important; }` so we also need the `!important` here to be able to override the default hidden behavior on the sphinx rendered scikit-learn.org. See: https://github.com/scikit-learn/scikit-learn/issues/21755 */display: inline-block !important;position: relative;}#sk-container-id-2 div.sk-text-repr-fallback {display: none;}</style><div id=\"sk-container-id-2\" class=\"sk-top-container\"><div class=\"sk-text-repr-fallback\"><pre>DecisionTreeClassifier(max_depth=20, random_state=42)</pre><b>In a Jupyter environment, please rerun this cell to show the HTML representation or trust the notebook. <br />On GitHub, the HTML representation is unable to render, please try loading this page with nbviewer.org.</b></div><div class=\"sk-container\" hidden><div class=\"sk-item\"><div class=\"sk-estimator sk-toggleable\"><input class=\"sk-toggleable__control sk-hidden--visually\" id=\"sk-estimator-id-2\" type=\"checkbox\" checked><label for=\"sk-estimator-id-2\" class=\"sk-toggleable__label sk-toggleable__label-arrow\">DecisionTreeClassifier</label><div class=\"sk-toggleable__content\"><pre>DecisionTreeClassifier(max_depth=20, random_state=42)</pre></div></div></div></div></div>"
      ],
      "text/plain": [
       "DecisionTreeClassifier(max_depth=20, random_state=42)"
      ]
     },
     "execution_count": 36,
     "metadata": {},
     "output_type": "execute_result"
    }
   ],
   "source": [
    "dt_tfidf = DecisionTreeClassifier(max_depth=20, random_state = 42)\n",
    "dt_tfidf.fit(X_test_tfidf, y_test)"
   ]
  },
  {
   "cell_type": "code",
   "execution_count": 35,
   "metadata": {},
   "outputs": [
    {
     "name": "stdout",
     "output_type": "stream",
     "text": [
      "Accuracy: 74.7%\n",
      "Recall: 66.7%\n",
      "F1-score: 72.5%\n"
     ]
    }
   ],
   "source": [
    "calc_metrics(dt_bow, X_test_bow)"
   ]
  },
  {
   "cell_type": "code",
   "execution_count": 37,
   "metadata": {},
   "outputs": [
    {
     "name": "stdout",
     "output_type": "stream",
     "text": [
      "Accuracy: 88.0%\n",
      "Recall: 78.7%\n",
      "F1-score: 86.8%\n"
     ]
    }
   ],
   "source": [
    "calc_metrics(dt_tfidf, X_test_tfidf)"
   ]
  },
  {
   "cell_type": "markdown",
   "metadata": {
    "id": "Io-6g_6dAdrf"
   },
   "source": [
    "Logistic regression seems to be one of the fastest algorithm and it has the best accuracy, and I will make my calculations based on this model in train.py"
   ]
  }
 ],
 "metadata": {
  "colab": {
   "authorship_tag": "ABX9TyPz7Mq1HMV9EIstG2QCZOT7",
   "collapsed_sections": [
    "qqRBBgTe-hR1",
    "2oYMxNIGcQYF",
    "9mEFqwRs8ED-",
    "G7Pqkqa-PAcY",
    "HYDwKozGSrhG",
    "mQO4E642Bho5",
    "rZ2jp6f_BnJ_",
    "-wmu4D61J-GW",
    "OD4Tn_WptGHs",
    "vi68H4P-S81C"
   ],
   "provenance": []
  },
  "kernelspec": {
   "display_name": "Python 3 (ipykernel)",
   "language": "python",
   "name": "python3"
  },
  "language_info": {
   "codemirror_mode": {
    "name": "ipython",
    "version": 3
   },
   "file_extension": ".py",
   "mimetype": "text/x-python",
   "name": "python",
   "nbconvert_exporter": "python",
   "pygments_lexer": "ipython3",
   "version": "3.11.5"
  }
 },
 "nbformat": 4,
 "nbformat_minor": 4
}
