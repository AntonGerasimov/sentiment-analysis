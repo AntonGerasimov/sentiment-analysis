{
 "cells": [
  {
   "cell_type": "markdown",
   "metadata": {
    "id": "4zLpWyORX2Os"
   },
   "source": [
    "# Import and Read data"
   ]
  },
  {
   "cell_type": "code",
   "execution_count": 1,
   "metadata": {
    "executionInfo": {
     "elapsed": 3,
     "status": "ok",
     "timestamp": 1707126578125,
     "user": {
      "displayName": "Antony Gerasimov",
      "userId": "02899291570275696238"
     },
     "user_tz": -240
    },
    "id": "M-kHaQQVXxDR"
   },
   "outputs": [
    {
     "name": "stderr",
     "output_type": "stream",
     "text": [
      "[nltk_data] Downloading package stopwords to\n",
      "[nltk_data]     /Users/antongerasimov/nltk_data...\n",
      "[nltk_data]   Package stopwords is already up-to-date!\n"
     ]
    }
   ],
   "source": [
    "import numpy as np\n",
    "import pandas as pd\n",
    "\n",
    "import matplotlib.pyplot as plt\n",
    "import seaborn as sns\n",
    "\n",
    "import os\n",
    "\n",
    "import re\n",
    "\n",
    "from pathlib import Path\n",
    "\n",
    "import nltk\n",
    "nltk.download('stopwords')\n",
    "from nltk.corpus import stopwords"
   ]
  },
  {
   "cell_type": "markdown",
   "metadata": {
    "id": "L0NB5J1yZDX6"
   },
   "source": [
    "Read data"
   ]
  },
  {
   "cell_type": "code",
   "execution_count": 2,
   "metadata": {},
   "outputs": [
    {
     "name": "stdout",
     "output_type": "stream",
     "text": [
      "/Users/antongerasimov/Documents/EPAM/ds/project/final_project_epam_ds\n"
     ]
    }
   ],
   "source": [
    "main_dir = Path(os.path.abspath('')).parent\n",
    "print(main_dir)"
   ]
  },
  {
   "cell_type": "code",
   "execution_count": 3,
   "metadata": {
    "executionInfo": {
     "elapsed": 317,
     "status": "ok",
     "timestamp": 1707126582652,
     "user": {
      "displayName": "Antony Gerasimov",
      "userId": "02899291570275696238"
     },
     "user_tz": -240
    },
    "id": "IM48F9MSZHf_"
   },
   "outputs": [],
   "source": [
    "main_dir = Path(os.path.abspath('')).parent\n",
    "data_path = main_dir / 'data' / 'raw'\n",
    "train_file_name = \"train.csv\"\n",
    "test_file_name = \"test.csv\""
   ]
  },
  {
   "cell_type": "code",
   "execution_count": 4,
   "metadata": {
    "executionInfo": {
     "elapsed": 2946,
     "status": "ok",
     "timestamp": 1707126585892,
     "user": {
      "displayName": "Antony Gerasimov",
      "userId": "02899291570275696238"
     },
     "user_tz": -240
    },
    "id": "dUjWayGzaCtT"
   },
   "outputs": [],
   "source": [
    "train_data = pd.read_csv(os.path.join(data_path, train_file_name))"
   ]
  },
  {
   "cell_type": "code",
   "execution_count": 5,
   "metadata": {
    "executionInfo": {
     "elapsed": 462,
     "status": "ok",
     "timestamp": 1707126586352,
     "user": {
      "displayName": "Antony Gerasimov",
      "userId": "02899291570275696238"
     },
     "user_tz": -240
    },
    "id": "NTCVQ_o-QUhU"
   },
   "outputs": [],
   "source": [
    "test_data = pd.read_csv(os.path.join(data_path, test_file_name))"
   ]
  },
  {
   "cell_type": "markdown",
   "metadata": {
    "id": "zYcqTrvFcOR8"
   },
   "source": [
    "# Data preprocessing"
   ]
  },
  {
   "cell_type": "markdown",
   "metadata": {
    "id": "2oYMxNIGcQYF"
   },
   "source": [
    "## Methods"
   ]
  },
  {
   "cell_type": "code",
   "execution_count": 6,
   "metadata": {
    "colab": {
     "base_uri": "https://localhost:8080/",
     "height": 0
    },
    "executionInfo": {
     "elapsed": 6,
     "status": "ok",
     "timestamp": 1707126586353,
     "user": {
      "displayName": "Antony Gerasimov",
      "userId": "02899291570275696238"
     },
     "user_tz": -240
    },
    "id": "9IWa9qLfVd6v",
    "outputId": "bb2d9106-7ba5-47c2-aa4a-38e6170d7b9f"
   },
   "outputs": [
    {
     "data": {
      "text/plain": [
       "\"i, me, my, myself, we, our, ours, ourselves, you, you're, you've, you'll, you'd, your, yours, yourself, yourselves, he, him, his, himself, she, she's, her, hers, herself, it, it's, its, itself, they, them, their, theirs, themselves, what, which, who, whom, this, that, that'll, these, those, am, is, are, was, were, be, been, being, have, has, had, having, do, does, did, doing, a, an, the, and, but, if, or, because, as, until, while, of, at, by, for, with, about, against, between, into, through, during, before, after, above, below, to, from, up, down, in, out, on, off, over, under, again, further, then, once, here, there, when, where, why, how, all, any, both, each, few, more, most, other, some, such, no, nor, not, only, own, same, so, than, too, very, s, t, can, will, just, don, don't, should, should've, now, d, ll, m, o, re, ve, y, ain, aren, aren't, couldn, couldn't, didn, didn't, doesn, doesn't, hadn, hadn't, hasn, hasn't, haven, haven't, isn, isn't, ma, mightn, mightn't, mustn, mustn't, needn, needn't, shan, shan't, shouldn, shouldn't, wasn, wasn't, weren, weren't, won, won't, wouldn, wouldn't\""
      ]
     },
     "execution_count": 6,
     "metadata": {},
     "output_type": "execute_result"
    }
   ],
   "source": [
    "\", \".join(stopwords.words('english'))"
   ]
  },
  {
   "cell_type": "code",
   "execution_count": 7,
   "metadata": {
    "executionInfo": {
     "elapsed": 7,
     "status": "ok",
     "timestamp": 1707126586657,
     "user": {
      "displayName": "Antony Gerasimov",
      "userId": "02899291570275696238"
     },
     "user_tz": -240
    },
    "id": "3YWmq6MJcSZc"
   },
   "outputs": [],
   "source": [
    "def clean_data(column):\n",
    "    column = remove_url(column)\n",
    "    column = remove_html_tags(column)\n",
    "    column = remove_non_alphanumeric(column)\n",
    "    column = convert_to_lowercase(column)\n",
    "    column = remove_short_words(column)\n",
    "    column = remove_stopwords(column)\n",
    "    return column"
   ]
  },
  {
   "cell_type": "code",
   "execution_count": 8,
   "metadata": {
    "executionInfo": {
     "elapsed": 7,
     "status": "ok",
     "timestamp": 1707126586657,
     "user": {
      "displayName": "Antony Gerasimov",
      "userId": "02899291570275696238"
     },
     "user_tz": -240
    },
    "id": "jVJ1oJNEsxao"
   },
   "outputs": [],
   "source": [
    "def remove_url(review_text):\n",
    "    url_pattern = re.compile(r'https?://\\S+|www\\.\\S+')\n",
    "    return re.sub(url_pattern, '', review_text)"
   ]
  },
  {
   "cell_type": "code",
   "execution_count": 9,
   "metadata": {
    "executionInfo": {
     "elapsed": 6,
     "status": "ok",
     "timestamp": 1707126586657,
     "user": {
      "displayName": "Antony Gerasimov",
      "userId": "02899291570275696238"
     },
     "user_tz": -240
    },
    "id": "vULxSZmrTm3s"
   },
   "outputs": [],
   "source": [
    "def remove_html_tags(review_text):\n",
    "    html_pattern = re.compile('<.*?>')\n",
    "    return html_pattern.sub(r'', review_text)"
   ]
  },
  {
   "cell_type": "code",
   "execution_count": 10,
   "metadata": {
    "executionInfo": {
     "elapsed": 6,
     "status": "ok",
     "timestamp": 1707126586657,
     "user": {
      "displayName": "Antony Gerasimov",
      "userId": "02899291570275696238"
     },
     "user_tz": -240
    },
    "id": "6K0iTvR3CUd4"
   },
   "outputs": [],
   "source": [
    "def remove_non_alphanumeric(review_text):\n",
    "    return re.sub(r'[^a-zA-Z]', ' ', review_text)"
   ]
  },
  {
   "cell_type": "code",
   "execution_count": 11,
   "metadata": {
    "executionInfo": {
     "elapsed": 6,
     "status": "ok",
     "timestamp": 1707126586657,
     "user": {
      "displayName": "Antony Gerasimov",
      "userId": "02899291570275696238"
     },
     "user_tz": -240
    },
    "id": "VtOuvmtr9GFt"
   },
   "outputs": [],
   "source": [
    "def convert_to_lowercase(review_text):\n",
    "    review_text = review_text.lower()\n",
    "    return review_text"
   ]
  },
  {
   "cell_type": "code",
   "execution_count": 12,
   "metadata": {
    "executionInfo": {
     "elapsed": 6,
     "status": "ok",
     "timestamp": 1707126586657,
     "user": {
      "displayName": "Antony Gerasimov",
      "userId": "02899291570275696238"
     },
     "user_tz": -240
    },
    "id": "jRMl0EjVyAYK"
   },
   "outputs": [],
   "source": [
    "def remove_short_words(review_text, min_length=3):\n",
    "    return ' '.join(word for word in review_text.split() if len(word) > min_length)"
   ]
  },
  {
   "cell_type": "code",
   "execution_count": 13,
   "metadata": {
    "executionInfo": {
     "elapsed": 5,
     "status": "ok",
     "timestamp": 1707126586657,
     "user": {
      "displayName": "Antony Gerasimov",
      "userId": "02899291570275696238"
     },
     "user_tz": -240
    },
    "id": "oEMQNhWSWMDl"
   },
   "outputs": [],
   "source": [
    "def remove_stopwords(review_text):\n",
    "    STOPWORDS = set(stopwords.words('english'))\n",
    "    words = review_text.split()\n",
    "    filtered_words = [word for word in words if word.lower() not in STOPWORDS]\n",
    "    return ' '.join(filtered_words)"
   ]
  },
  {
   "cell_type": "code",
   "execution_count": 14,
   "metadata": {
    "executionInfo": {
     "elapsed": 6,
     "status": "ok",
     "timestamp": 1707126586658,
     "user": {
      "displayName": "Antony Gerasimov",
      "userId": "02899291570275696238"
     },
     "user_tz": -240
    },
    "id": "lnRk2ZKXdMS0"
   },
   "outputs": [],
   "source": [
    "def find_common_words(data):\n",
    "    positive_review = data[data.sentiment == 'positive']['review']\n",
    "    negative_review = data[data.sentiment == 'negative']['review']\n",
    "    splited_review = [positive_review, negative_review]\n",
    "    all_text_sets = [' '.join(examples) for examples in splited_review]\n",
    "\n",
    "    top_words_sets = []\n",
    "\n",
    "    for item, text_set in enumerate(all_text_sets):\n",
    "        top_words_series = pd.Series(text_set.split()).value_counts().head(13)\n",
    "        top_words = top_words_series.index.tolist()\n",
    "        top_word_counts = top_words_series.values.tolist()\n",
    "        top_words_sets.append(set(top_words))\n",
    "\n",
    "    return set.intersection(*top_words_sets)"
   ]
  },
  {
   "cell_type": "code",
   "execution_count": 15,
   "metadata": {
    "executionInfo": {
     "elapsed": 6,
     "status": "ok",
     "timestamp": 1707126586658,
     "user": {
      "displayName": "Antony Gerasimov",
      "userId": "02899291570275696238"
     },
     "user_tz": -240
    },
    "id": "PCBo7bzLm2UT"
   },
   "outputs": [],
   "source": [
    "def remove_common_words_from_review(review_text, common_words):\n",
    "    words = review_text.split()\n",
    "    filtered_words = [word for word in words if word.lower() not in common_words]  # Consider case-insensitive matching\n",
    "    return ' '.join(filtered_words)"
   ]
  },
  {
   "cell_type": "code",
   "execution_count": 16,
   "metadata": {
    "executionInfo": {
     "elapsed": 6,
     "status": "ok",
     "timestamp": 1707126586658,
     "user": {
      "displayName": "Antony Gerasimov",
      "userId": "02899291570275696238"
     },
     "user_tz": -240
    },
    "id": "equMs8j-qCvr"
   },
   "outputs": [],
   "source": [
    "def remove_common_words(current_data, common_words):\n",
    "    current_data['review'] = current_data['review'].apply(lambda text: remove_common_words_from_review(text, common_words))\n",
    "    return current_data"
   ]
  },
  {
   "cell_type": "code",
   "execution_count": null,
   "metadata": {},
   "outputs": [],
   "source": []
  },
  {
   "cell_type": "markdown",
   "metadata": {
    "id": "OD4Tn_WptGHs"
   },
   "source": [
    "# Evaluating pipeline"
   ]
  },
  {
   "cell_type": "markdown",
   "metadata": {
    "id": "MzMW1Hjy__jn"
   },
   "source": [
    "## asdf"
   ]
  },
  {
   "cell_type": "code",
   "execution_count": 17,
   "metadata": {
    "id": "qI7JLp3VtItP"
   },
   "outputs": [],
   "source": [
    "data = train_data.copy()\n",
    "data['review'] = data['review'].apply(clean_data)"
   ]
  },
  {
   "cell_type": "code",
   "execution_count": 18,
   "metadata": {
    "colab": {
     "base_uri": "https://localhost:8080/"
    },
    "executionInfo": {
     "elapsed": 3453,
     "status": "ok",
     "timestamp": 1706284061970,
     "user": {
      "displayName": "Antony Gerasimov",
      "userId": "02899291570275696238"
     },
     "user_tz": -240
    },
    "id": "E8B7Iyh5XG6S",
    "outputId": "868e112b-14ad-46a3-b5a8-fb7ec5a572ca"
   },
   "outputs": [
    {
     "data": {
      "text/plain": [
       "[('movie', 70374),\n",
       " ('film', 64037),\n",
       " ('like', 31952),\n",
       " ('good', 23826),\n",
       " ('time', 20097),\n",
       " ('even', 19827),\n",
       " ('would', 19726),\n",
       " ('really', 18544),\n",
       " ('story', 18456),\n",
       " ('well', 16940)]"
      ]
     },
     "execution_count": 18,
     "metadata": {},
     "output_type": "execute_result"
    }
   ],
   "source": [
    "from collections import Counter\n",
    "cnt = Counter()\n",
    "for text in data['review'].values:\n",
    "    for word in text.split():\n",
    "        cnt[word] += 1\n",
    "\n",
    "cnt.most_common(10)"
   ]
  },
  {
   "cell_type": "code",
   "execution_count": 19,
   "metadata": {
    "id": "_-3b0_JLXnn2"
   },
   "outputs": [],
   "source": [
    "positive_review = data[data.sentiment == 'positive']['review']\n",
    "negative_review = data[data.sentiment == 'negative']['review']"
   ]
  },
  {
   "cell_type": "code",
   "execution_count": 32,
   "metadata": {},
   "outputs": [],
   "source": [
    "positive_text = ' '.join(positive_review)\n",
    "positive_word_counts = Counter(positive_text.split())\n",
    "\n",
    "negative_text = ' '.join(negative_review)\n",
    "negative_word_counts = Counter(negative_text.split())"
   ]
  },
  {
   "cell_type": "code",
   "execution_count": null,
   "metadata": {},
   "outputs": [],
   "source": [
    "unique_positive_words = [word for word, count in positive_word_counts.items() if count == 1]\n",
    "unique_negative_words = [word for word, count in negative_word_counts.items() if count == 1]"
   ]
  },
  {
   "cell_type": "code",
   "execution_count": 29,
   "metadata": {},
   "outputs": [
    {
     "data": {
      "text/plain": [
       "24894"
      ]
     },
     "execution_count": 29,
     "metadata": {},
     "output_type": "execute_result"
    }
   ],
   "source": [
    "len(unique_positive_words)"
   ]
  },
  {
   "cell_type": "code",
   "execution_count": 30,
   "metadata": {},
   "outputs": [
    {
     "data": {
      "text/plain": [
       "24045"
      ]
     },
     "execution_count": 30,
     "metadata": {},
     "output_type": "execute_result"
    }
   ],
   "source": [
    "len(unique_negative_words)"
   ]
  },
  {
   "cell_type": "code",
   "execution_count": 20,
   "metadata": {
    "id": "fI_RHsk4X8Qd"
   },
   "outputs": [],
   "source": [
    "color = ['blue', 'green']\n",
    "splited_review = [positive_review, negative_review]"
   ]
  },
  {
   "cell_type": "code",
   "execution_count": 22,
   "metadata": {
    "colab": {
     "base_uri": "https://localhost:8080/",
     "height": 939
    },
    "executionInfo": {
     "elapsed": 4924,
     "status": "ok",
     "timestamp": 1706284025517,
     "user": {
      "displayName": "Antony Gerasimov",
      "userId": "02899291570275696238"
     },
     "user_tz": -240
    },
    "id": "_tRGD09RYBYi",
    "outputId": "93bc3c56-d98a-4d79-ae48-ba4aaf3d792c"
   },
   "outputs": [
    {
     "data": {
      "image/png": "[encoded data removed]",
      "text/plain": [
       "<Figure size 1500x500 with 1 Axes>"
      ]
     },
     "metadata": {},
     "output_type": "display_data"
    },
    {
     "data": {
      "image/png": "[encoded data removed]",
      "text/plain": [
       "<Figure size 1500x500 with 1 Axes>"
      ]
     },
     "metadata": {},
     "output_type": "display_data"
    }
   ],
   "source": [
    "for item in range(2):\n",
    "    plt.figure(figsize=(15,5))\n",
    "    pd.Series(' '.join(splited_review[item]).split()).value_counts().head(20).plot(kind='bar', color=color[item])\n",
    "    if item == 0:\n",
    "        plt.title(f'Most used words for positive reviews')\n",
    "    else:\n",
    "        plt.title(f'Most used words for negative reviews')\n",
    "    plt.show()"
   ]
  },
  {
   "cell_type": "markdown",
   "metadata": {
    "id": "IjrmxeqQZdbW"
   },
   "source": [
    "We can see, that 'movie', 'film', 'one', 'like', 'good'"
   ]
  },
  {
   "cell_type": "markdown",
   "metadata": {
    "id": "G7Pqkqa-PAcY"
   },
   "source": [
    "# Saving common words from train_data"
   ]
  },
  {
   "cell_type": "code",
   "execution_count": 19,
   "metadata": {
    "id": "WHP7OkQQ8KCv"
   },
   "outputs": [],
   "source": [
    "data_for_common_words = train_data.copy()\n",
    "data_for_common_words['review'] = data_for_common_words['review'].apply(clean_data)"
   ]
  },
  {
   "cell_type": "code",
   "execution_count": 20,
   "metadata": {
    "id": "Zbkw5N9KMuT0"
   },
   "outputs": [],
   "source": [
    "common_words = find_common_words(data_for_common_words)"
   ]
  },
  {
   "cell_type": "code",
   "execution_count": 21,
   "metadata": {
    "colab": {
     "base_uri": "https://localhost:8080/"
    },
    "executionInfo": {
     "elapsed": 17,
     "status": "ok",
     "timestamp": 1706778925297,
     "user": {
      "displayName": "Antony Gerasimov",
      "userId": "02899291570275696238"
     },
     "user_tz": -240
    },
    "id": "ybDdpJdNOJfu",
    "outputId": "089edaf4-8f14-4e30-c48c-f582b38a261b"
   },
   "outputs": [
    {
     "data": {
      "text/plain": [
       "{'even',\n",
       " 'film',\n",
       " 'good',\n",
       " 'like',\n",
       " 'movie',\n",
       " 'much',\n",
       " 'really',\n",
       " 'story',\n",
       " 'time',\n",
       " 'would'}"
      ]
     },
     "execution_count": 21,
     "metadata": {},
     "output_type": "execute_result"
    }
   ],
   "source": [
    "common_words"
   ]
  },
  {
   "cell_type": "code",
   "execution_count": null,
   "metadata": {
    "colab": {
     "base_uri": "https://localhost:8080/"
    },
    "executionInfo": {
     "elapsed": 273,
     "status": "ok",
     "timestamp": 1706364328841,
     "user": {
      "displayName": "Antony Gerasimov",
      "userId": "02899291570275696238"
     },
     "user_tz": -240
    },
    "id": "I3R92O87PC_k",
    "outputId": "4fbcdce9-b24c-4dd2-fba2-e40fc5423daf"
   },
   "outputs": [
    {
     "name": "stdout",
     "output_type": "stream",
     "text": [
      "common_words.txt  gdrive  sample_data\n"
     ]
    }
   ],
   "source": [
    "file_path = \"/content/common_words.txt\"\n",
    "\n",
    "# Save common_words to the file\n",
    "with open(file_path, 'w') as file:\n",
    "    for word in common_words:\n",
    "        file.write(word + '\\n')\n",
    "\n",
    "# Verify that the file has been created\n",
    "!ls /content"
   ]
  }
 ],
 "metadata": {
  "colab": {
   "authorship_tag": "ABX9TyPz7Mq1HMV9EIstG2QCZOT7",
   "collapsed_sections": [
    "qqRBBgTe-hR1",
    "2oYMxNIGcQYF",
    "9mEFqwRs8ED-",
    "G7Pqkqa-PAcY",
    "HYDwKozGSrhG",
    "mQO4E642Bho5",
    "rZ2jp6f_BnJ_",
    "-wmu4D61J-GW",
    "OD4Tn_WptGHs",
    "vi68H4P-S81C"
   ],
   "provenance": []
  },
  "kernelspec": {
   "display_name": "Python 3 (ipykernel)",
   "language": "python",
   "name": "python3"
  },
  "language_info": {
   "codemirror_mode": {
    "name": "ipython",
    "version": 3
   },
   "file_extension": ".py",
   "mimetype": "text/x-python",
   "name": "python",
   "nbconvert_exporter": "python",
   "pygments_lexer": "ipython3",
   "version": "3.11.5"
  }
 },
 "nbformat": 4,
 "nbformat_minor": 4
}
